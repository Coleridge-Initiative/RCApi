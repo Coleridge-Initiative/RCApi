{
 "cells": [
  {
   "cell_type": "code",
   "execution_count": 45,
   "metadata": {},
   "outputs": [
    {
     "data": {
      "text/plain": [
       "<module 'RichContextAPI' from '/Users/sophierand/RCApi/RichContextAPI.py'>"
      ]
     },
     "execution_count": 45,
     "metadata": {},
     "output_type": "execute_result"
    }
   ],
   "source": [
    "import RichContextAPI\n",
    "import importlib\n",
    "import json\n",
    "import time\n",
    "import os\n",
    "importlib.reload(RichContextAPI)"
   ]
  },
  {
   "cell_type": "code",
   "execution_count": 39,
   "metadata": {},
   "outputs": [],
   "source": [
    "def get_publication_metadata(p):\n",
    "    title = p['title'].lower()\n",
    "    p.update({'title':title})\n",
    "    try:\n",
    "        epmc_md = RichContextAPI.get_epmc_md(title)\n",
    "        p.update({'europepmc':epmc_md})\n",
    "        print('found metadata in europe pmc')\n",
    "    except:\n",
    "        pass\n",
    "    try:\n",
    "        oa_md = RichContextAPI.oa_lookup_pub_uris(title)\n",
    "        p.update({'openaire':oa_md})\n",
    "        print('found metadata in openaire')\n",
    "    except:\n",
    "        pass\n",
    "    try:\n",
    "        ssrn_md = RichContextAPI.get_ssrn_md(title)\n",
    "        p.update({'ssrn':ssrn_md})\n",
    "        print('found metadata in ssrn')\n",
    "    except:\n",
    "        pass\n",
    "    try:\n",
    "        dimensions_md = RichContextAPI.get_dimensions_md(title)\n",
    "        p.update({'dimensions':dimensions_md})\n",
    "        print('found metadata in dimensions')\n",
    "    except:\n",
    "        pass\n",
    "    return p"
   ]
  },
  {
   "cell_type": "code",
   "execution_count": 48,
   "metadata": {},
   "outputs": [],
   "source": [
    "pub_path = '/Users/sophierand/RCPublications/partitions/20190610_usda_iri_publications.json'\n",
    "with open(pub_path) as json_file:\n",
    "    publications = json.load(json_file)\n"
   ]
  },
  {
   "cell_type": "code",
   "execution_count": 49,
   "metadata": {},
   "outputs": [
    {
     "name": "stdout",
     "output_type": "stream",
     "text": [
      "found metadata in europe pmc\n",
      "found metadata in openaire\n",
      "found metadata in dimensions\n"
     ]
    }
   ],
   "source": [
    "p = publications[0]\n",
    "pub_md = get_publication_metadata(p)"
   ]
  },
  {
   "cell_type": "code",
   "execution_count": 33,
   "metadata": {},
   "outputs": [
    {
     "data": {
      "text/plain": [
       "{'url': {'url': 'http://europepmc.org/articles/PMC4427330',\n",
       "  'pdf': 'http://europepmc.org/articles/PMC4427330?pdf=render'},\n",
       " 'journal': 'PLoS ONE',\n",
       " 'title': 'relationships between diet, alcohol preference, and heart disease and type 2 diabetes among americans',\n",
       " 'doi': '10.1371/journal.pone.0124351'}"
      ]
     },
     "execution_count": 33,
     "metadata": {},
     "output_type": "execute_result"
    }
   ],
   "source": [
    "pub_md['openaire']"
   ]
  },
  {
   "cell_type": "code",
   "execution_count": 50,
   "metadata": {},
   "outputs": [],
   "source": [
    "md_path = \"/Users/sophierand/RCCustomers/exports/USDA/pub_md.json\""
   ]
  },
  {
   "cell_type": "code",
   "execution_count": 51,
   "metadata": {},
   "outputs": [],
   "source": [
    "with open(md_path, 'w') as outfile:\n",
    "    json.dump(pub_md, outfile,indent = 2)"
   ]
  },
  {
   "cell_type": "code",
   "execution_count": 46,
   "metadata": {},
   "outputs": [],
   "source": [
    "# oa_md = RichContextAPI.oa_lookup_pub_uris(title)"
   ]
  },
  {
   "cell_type": "code",
   "execution_count": 47,
   "metadata": {},
   "outputs": [
    {
     "data": {
      "text/plain": [
       "{'journal': 'PLoS ONE',\n",
       " 'title': 'relationships between diet, alcohol preference, and heart disease and type 2 diabetes among americans',\n",
       " 'doi': '10.1371/journal.pone.0124351',\n",
       " 'url': 'http://europepmc.org/articles/PMC4427330',\n",
       " 'pdf': 'http://europepmc.org/articles/PMC4427330?pdf=render'}"
      ]
     },
     "execution_count": 47,
     "metadata": {},
     "output_type": "execute_result"
    }
   ],
   "source": [
    "# oa_md"
   ]
  },
  {
   "cell_type": "code",
   "execution_count": null,
   "metadata": {},
   "outputs": [],
   "source": []
  }
 ],
 "metadata": {
  "kernelspec": {
   "display_name": "Python 3",
   "language": "python",
   "name": "python3"
  },
  "language_info": {
   "codemirror_mode": {
    "name": "ipython",
    "version": 3
   },
   "file_extension": ".py",
   "mimetype": "text/x-python",
   "name": "python",
   "nbconvert_exporter": "python",
   "pygments_lexer": "ipython3",
   "version": "3.7.3"
  }
 },
 "nbformat": 4,
 "nbformat_minor": 2
}
