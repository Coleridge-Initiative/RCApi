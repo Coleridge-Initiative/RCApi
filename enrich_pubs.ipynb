{
 "cells": [
  {
   "cell_type": "code",
   "execution_count": null,
   "metadata": {},
   "outputs": [],
   "source": [
    "import RichContextAPI\n",
    "import importlib\n",
    "import json\n",
    "import time\n",
    "import os\n",
    "importlib.reload(RichContextAPI)"
   ]
  },
  {
   "cell_type": "code",
   "execution_count": null,
   "metadata": {},
   "outputs": [],
   "source": [
    "def get_publication_metadata(p):\n",
    "    title = p['title']\n",
    "    try:\n",
    "        epmc_md = RichContextAPI.get_epmc_md(title)\n",
    "        p.update({'europepmc':epmc_md})\n",
    "        print('found metadata in europe pmc')\n",
    "    except:\n",
    "        pass\n",
    "    try:\n",
    "        oa_md = RichContextAPI.oa_lookup_pub_uris(title)\n",
    "        p.update({'openaire':oa_md})\n",
    "        print('found metadata in openaire')\n",
    "    except:\n",
    "        pass\n",
    "    try:\n",
    "        ssrn_md = RichContextAPI.get_ssrn_md(title)\n",
    "        p.update({'ssrn':ssrn_md})\n",
    "        print('found metadata in ssrn')\n",
    "    except:\n",
    "        pass\n",
    "    try:\n",
    "        dimensions_md = RichContextAPI.get_dimensions_md(title)\n",
    "        p.update({'dimensions':dimensions_md})\n",
    "        print('found metadata in dimensions')\n",
    "    except:\n",
    "        pass\n",
    "    return p"
   ]
  },
  {
   "cell_type": "code",
   "execution_count": null,
   "metadata": {},
   "outputs": [],
   "source": [
    "pub_path = '/Users/sophierand/RCPublications/partitions/20190610_usda_iri_publications.json'\n",
    "with open(pub_path) as json_file:\n",
    "    publications = json.load(json_file)\n"
   ]
  },
  {
   "cell_type": "code",
   "execution_count": null,
   "metadata": {},
   "outputs": [],
   "source": [
    "p = publications[0]\n",
    "pub_md = get_publication_metadata(p)"
   ]
  }
 ],
 "metadata": {
  "kernelspec": {
   "display_name": "Python 3",
   "language": "python",
   "name": "python3"
  },
  "language_info": {
   "codemirror_mode": {
    "name": "ipython",
    "version": 3
   },
   "file_extension": ".py",
   "mimetype": "text/x-python",
   "name": "python",
   "nbconvert_exporter": "python",
   "pygments_lexer": "ipython3",
   "version": "3.7.3"
  }
 },
 "nbformat": 4,
 "nbformat_minor": 2
}
