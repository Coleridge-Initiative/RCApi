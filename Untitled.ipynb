{
 "cells": [
  {
   "cell_type": "code",
   "execution_count": 15,
   "metadata": {},
   "outputs": [],
   "source": [
    "import requests"
   ]
  },
  {
   "cell_type": "code",
   "execution_count": 1,
   "metadata": {},
   "outputs": [],
   "source": [
    "import urllib.request\n",
    "from urllib import parse\n",
    "import xml\n"
   ]
  },
  {
   "cell_type": "code",
   "execution_count": 4,
   "metadata": {},
   "outputs": [],
   "source": [
    "def load_uri (uri):\n",
    "    with urllib.request.urlopen(uri) as response:\n",
    "        html = response.read()\n",
    "        return html.decode(\"utf-8\")\n",
    "    \n",
    "\n"
   ]
  },
  {
   "cell_type": "code",
   "execution_count": 24,
   "metadata": {},
   "outputs": [],
   "source": [
    "scholexplorer_uri = 'http://scholexplorer.openaire.eu/#/query/typology_publication/q=%22Survey%20of%20Earned%20Doctorates%22'\n"
   ]
  },
  {
   "cell_type": "code",
   "execution_count": 7,
   "metadata": {},
   "outputs": [],
   "source": [
    "# http://scholexplorer.openaire.eu/#/query/typology_publication/q=%22Survey%20of%20Earned%20Doctorates%22"
   ]
  },
  {
   "cell_type": "code",
   "execution_count": 33,
   "metadata": {},
   "outputs": [],
   "source": [
    "import bs4 as bs\n",
    "import urllib.request\n",
    "\n",
    "source = urllib.request.urlopen(scholexplorer_uri)\n",
    "soup = bs.BeautifulSoup(source,'lxml')\n",
    "\n",
    "js_test = soup.find('div', class_='row ng-scope')"
   ]
  },
  {
   "cell_type": "code",
   "execution_count": 34,
   "metadata": {},
   "outputs": [
    {
     "ename": "AttributeError",
     "evalue": "'NoneType' object has no attribute 'text'",
     "output_type": "error",
     "traceback": [
      "\u001b[0;31m---------------------------------------------------------------------------\u001b[0m",
      "\u001b[0;31mAttributeError\u001b[0m                            Traceback (most recent call last)",
      "\u001b[0;32m<ipython-input-34-33f3ceb82c2c>\u001b[0m in \u001b[0;36m<module>\u001b[0;34m\u001b[0m\n\u001b[0;32m----> 1\u001b[0;31m \u001b[0mjs_test\u001b[0m\u001b[0;34m.\u001b[0m\u001b[0mtext\u001b[0m\u001b[0;34m\u001b[0m\u001b[0;34m\u001b[0m\u001b[0m\n\u001b[0m",
      "\u001b[0;31mAttributeError\u001b[0m: 'NoneType' object has no attribute 'text'"
     ]
    }
   ],
   "source": [
    "js_test.text"
   ]
  },
  {
   "cell_type": "code",
   "execution_count": 23,
   "metadata": {},
   "outputs": [
    {
     "ename": "TypeError",
     "evalue": "'HTMLSession' object is not callable",
     "output_type": "error",
     "traceback": [
      "\u001b[0;31m---------------------------------------------------------------------------\u001b[0m",
      "\u001b[0;31mTypeError\u001b[0m                                 Traceback (most recent call last)",
      "\u001b[0;32m<ipython-input-23-222b7eef0ace>\u001b[0m in \u001b[0;36m<module>\u001b[0;34m\u001b[0m\n\u001b[0;32m----> 1\u001b[0;31m \u001b[0mr\u001b[0m \u001b[0;34m=\u001b[0m \u001b[0msession\u001b[0m\u001b[0;34m(\u001b[0m\u001b[0mscholexplorer_uri\u001b[0m\u001b[0;34m)\u001b[0m\u001b[0;34m\u001b[0m\u001b[0;34m\u001b[0m\u001b[0m\n\u001b[0m",
      "\u001b[0;31mTypeError\u001b[0m: 'HTMLSession' object is not callable"
     ]
    }
   ],
   "source": [
    "r = session(scholexplorer_uri)"
   ]
  },
  {
   "cell_type": "code",
   "execution_count": null,
   "metadata": {},
   "outputs": [],
   "source": []
  },
  {
   "cell_type": "code",
   "execution_count": null,
   "metadata": {},
   "outputs": [],
   "source": []
  },
  {
   "cell_type": "code",
   "execution_count": 8,
   "metadata": {},
   "outputs": [],
   "source": [
    "ss_uri = 'https://www.semanticscholar.org/search?q=\"survey%20of%20earned%20doctorates\"&sort=relevance'\n",
    "ss_response = load_uri(ss_uri)"
   ]
  },
  {
   "cell_type": "code",
   "execution_count": null,
   "metadata": {},
   "outputs": [],
   "source": [
    "# https://www.semanticscholar.org/search?q=\"survey%20of%20earned%20doctorates\""
   ]
  },
  {
   "cell_type": "code",
   "execution_count": 9,
   "metadata": {},
   "outputs": [
    {
     "data": {
      "text/plain": [
       "'<!DOCTYPE html><html lang=\"en\">\\n  <head lang=\"en\">\\n    <title>\"survey of earned doctorates\" - Semantic Scholar</title>\\n    <meta name=\"robots\" content=\"noarchive\">\\n    <!-- We have a public API for this page. Check out http://api.semanticscholar.org/ -->\\n    \\n    <meta name=\"viewport\" content=\"width=device-width,initial-scale=1\">\\n    <meta charset=\"utf-8\">\\n    <meta name=\"s2-ui-version\" content=\"46d25f038d24440492a9945aaa851532e51de947\">\\n    <meta name=\"description\" content=\"An academic search engine that utilizes artificial intelligence methods to provide highly relevant results and novel tools to filter them with ease.\">\\n    <meta name=\"twitter:description\" content=\"An academic search engine that utilizes artificial intelligence methods to provide highly relevant results and novel tools to filter them with ease.\">\\n\\t<meta property=\"og:description\" content=\"An academic search engine that utilizes artificial intelligence methods to provide highly relevant results and novel tools to filter them with ease.\">\\n\\t<meta property=\"og:title\" content=\"&quot;survey of earned doctorates&quot; - Semantic Scholar\">\\n\\t<meta name=\"twitter:title\" content=\"&quot;survey of earned doctorates&quot; - Semantic Scholar\">\\n\\t<meta property=\"og:image\" content=\"https://www.semanticscholar.org/img/semantic_scholar_og.jpg\">\\n\\t<meta property=\"og:image:secure_url\" content=\"https://www.semanticscholar.org/img/semantic_scholar_og.jpg\">\\n\\t<meta property=\"og:image:width\" content=\"1110\">\\n\\t<meta property=\"og:image:height\" content=\"582\">\\n\\t<meta name=\"twitter:image\" content=\"https://www.semanticscholar.org/img/semantic_scholar_og.jpg\">\\n    <meta property=\"og:type\" content=\"website\">\\n    <meta property=\"og:locale\" content=\"en_US\">\\n    <meta name=\"twitter:card\" content=\"summary_large_image\">\\n    <meta name=\"twitter:site\" content=\"@allenai_org\">\\n    <link rel=\"icon\" href=\"/img/favicon.png\" sizes=\"32x32\">\\n    <link href=\"https://fonts.googleapis.com/css?family=Roboto+Slab:400,700|Roboto:300,400,500,700\" rel=\"stylesheet\">\\n    <link href=\"https://dab4rbh62k56j.cloudfront.net/826913ede5c5160a/css/main.css\" rel=\"stylesheet\">\\n    <script src=\"https://cdn.polyfill.io/v2/polyfill.min.js?flags=gated&features=default-3.6\"></script>\\n    <!-- Google Analytics -->\\n    <script async src=\"https://www.googletagmanager.com/gtag/js?id=UA-67668211-2\"></script>\\n    <script>\\n      window.googleAnalyticsId = window.googleAnalyticsId || \\'UA-67668211-2\\';\\n      window.dataLayer = window.dataLayer || [];\\n      function gtag(){dataLayer.push(arguments);}\\n      gtag(\\'js\\', new Date());\\n      gtag(\\'config\\', \\'UA-67668211-2\\', {\\n        \\'linker\\': {\\'domains\\': [\\'pdfs.semanticscholar.org\\'], \\'accept_incoming\\': true}\\n      });\\n    </script>\\n    <!-- Hubspot Snippet -->\\n    <script type=\"text/javascript\" id=\"hs-script-loader\" async defer src=\"//js.hs-scripts.com/5910970.js\"></script>\\n    <!-- End Hubspot Snippet -->\\n    <!-- Heap Analytics Snippet -->\\n    <script type=\"text/javascript\">\\n      window.heap=window.heap||[],heap.load=function(e,t){window.heap.appid=e,window.heap.config=t=t||{};var r=t.forceSSL||\"https:\"===document.location.protocol,a=document.createElement(\"script\");a.type=\"text/javascript\",a.async=!0,a.src=(r?\"https:\":\"http:\")+\"//cdn.heapanalytics.com/js/heap-\"+e+\".js\";var n=document.getElementsByTagName(\"script\")[0];n.parentNode.insertBefore(a,n);for(var o=function(e){return function(){heap.push([e].concat(Array.prototype.slice.call(arguments,0)))}},p=[\"addEventProperties\",\"addUserProperties\",\"clearEventProperties\",\"identify\",\"removeEventProperty\",\"setEventProperties\",\"track\",\"unsetEventProperty\"],c=0;c<p.length;c++)heap[p[c]]=o(p[c])};\\n      heap.load(\\'2424575119\\');\\n      (function (expJson) {\\n        try {\\n          heap.addEventProperties(JSON.parse(expJson));\\n          if (document.cookie && document.cookie.match(\\'IS_SELENIUM=1\\')) {\\n            heap.addEventProperties({isSelenium: true});\\n          }\\n        } catch (error) {\\n          console.warn(\\'failed to send exposures to heap\\', error);\\n        }\\n      })(\\'{\"experiment:topics_demo\":null,\"feature:library_tags\":true,\"experiment:s2_logo_redesign\":\"new_logo\",\"feature:pdp_entity_relations\":false,\"feature:adaptive_feed\":false,\"experiment:split_by_route\":\"split_admin_route\",\"experiment:new_ab_framework_aa\":\"test\",\"experiment:autocomplete\":null,\"feature:pdp_citation_intents\":true,\"experiment:paper_abstract_highlight\":null,\"Is 90-day Returning (Non-BoD)\":false,\"experiment:author_claim_flow\":null,\"feature:copyright_banner\":false,\"feature:server_status_ui\":false,\"experiment:serp_alert\":null,\"feature:author_claim\":true,\"experiment:test_experiment\":null,\"experiment:login_demographics_modal_V3\":null,\"feature:author_claim_link_to_onboarding\":false,\"feature:author_onboarding_survey\":false,\"feature:alternate_sources\":true,\"feature:account_contact_section\":false,\"feature:mobile_login\":true,\"feature:faq_contentful\":false,\"feature:static_login_page\":true,\"feature:preview_box_entity_stats\":false,\"feature:pdp_paper_faqs_cs_only\":false,\"experiment:new_ab_framework_mock_ab\":null,\"feature:author_influence_graph\":true,\"Is 14-day Returning (Non-BoD)\":false,\"experiment:serp_density\":null,\"Is 1-day Returning (Non-BoD)\":true,\"feature:topics_demo_button\":false,\"experiment:null_hypothesis\":null,\"Is 28-day Returning (Non-BoD)\":false,\"experiment:similar_papers_shoveler\":null,\"feature:pdp_paper_faqs\":false,\"feature:recommender_serp_ad\":true,\"feature:account_management\":true,\"feature:layover_logger\":true,\"feature:pdp_paper_faqs_numerical_only\":false,\"experiment:similar_papers_from_model\":null,\"feature:pdp_scorecard\":true,\"Is 7-day Returning (Non-BoD)\":false,\"feature:emergency_banner\":false,\"experiment:pdp_fields_of_study_meta_v2\":null,\"experiment:pdp_figure_delayed_load\":null,\"feature:hubspot_newsletter_form\":true,\"feature:author_claim_allow_new_claims\":true}\\');\\n    </script>\\n    <!--End Heap Analytics Snippet-->\\n    \\n  </head>\\n  <body>\\n    <div id=\"app\"><div class=\"s2 flex-column\"><div class=\"search\"><div><a href=\"#search-form\" class=\"screen-reader-only\">Skip to search form</a><a href=\"#main-content\" class=\"screen-reader-only\">Skip to main content</a><header class=\"header header--light sticky-header\" role=\"banner\"><div class=\"flex-row-vcenter\"><a class=\"new-logo\" aria-label=\"Homepage\" href=\"/\">Semantic Scholar</a><form class=\"search-bar v2-search-bar\" id=\"search-form\" role=\"search\" autoComplete=\"off\" action=\"/search\"><div class=\"flex-row-vcenter input-container\"><div class=\"select--no-styles search-fos-menu field-of-study-select\"><div class=\"button button--secondary search-fos-menu__fos--button__button\">All Fields</div><span class=\"search-fos-menu__dropdown-anchor\"><div class=\"preview-box__anchor-point\" style=\"top:0px;left:0px\"><div class=\"preview-box preview-box__theme-search preview-box__position-bottom-left search-fos-menu__dropdown\"><div class=\"preview-box__content\"><div role=\"listbox\"><ul class=\"search-fos-menu__dropdown__link-list\"><li class=\"search-fos-menu__dropdown__link-list-line\"><input type=\"radio\" name=\"fosFilter\" id=\"fosFilterall\" class=\"search-fos-menu__dropdown__link-list-line__radio\" value=\"all\" checked=\"\"/><label class=\"search-fos-menu__dropdown__link-list-line__label\" for=\"fosFilterall\">All Fields</label></li><li class=\"search-fos-menu__dropdown__link-list-line\"><input type=\"radio\" name=\"fosFilter\" id=\"fosFilterart\" class=\"search-fos-menu__dropdown__link-list-line__radio\" value=\"art\"/><label class=\"search-fos-menu__dropdown__link-list-line__label\" for=\"fosFilterart\">Art</label></li><li class=\"search-fos-menu__dropdown__link-list-line\"><input type=\"radio\" name=\"fosFilter\" id=\"fosFilterbiology\" class=\"search-fos-menu__dropdown__link-list-line__radio\" value=\"biology\"/><label class=\"search-fos-menu__dropdown__link-list-line__label\" for=\"fosFilterbiology\">Biology</label></li><li class=\"search-fos-menu__dropdown__link-list-line\"><input type=\"radio\" name=\"fosFilter\" id=\"fosFilterbusiness\" class=\"search-fos-menu__dropdown__link-list-line__radio\" value=\"business\"/><label class=\"search-fos-menu__dropdown__link-list-line__label\" for=\"fosFilterbusiness\">Business</label></li><li class=\"search-fos-menu__dropdown__link-list-line\"><input type=\"radio\" name=\"fosFilter\" id=\"fosFiltercomputer-science\" class=\"search-fos-menu__dropdown__link-list-line__radio\" value=\"computer-science\"/><label class=\"search-fos-menu__dropdown__link-list-line__label\" for=\"fosFiltercomputer-science\">Computer Science</label></li><li class=\"search-fos-menu__dropdown__link-list-line\"><input type=\"radio\" name=\"fosFilter\" id=\"fosFilterchemistry\" class=\"search-fos-menu__dropdown__link-list-line__radio\" value=\"chemistry\"/><label class=\"search-fos-menu__dropdown__link-list-line__label\" for=\"fosFilterchemistry\">Chemistry</label></li><li class=\"search-fos-menu__dropdown__link-list-line\"><input type=\"radio\" name=\"fosFilter\" id=\"fosFiltereconomics\" class=\"search-fos-menu__dropdown__link-list-line__radio\" value=\"economics\"/><label class=\"search-fos-menu__dropdown__link-list-line__label\" for=\"fosFiltereconomics\">Economics</label></li><li class=\"search-fos-menu__dropdown__link-list-line\"><input type=\"radio\" name=\"fosFilter\" id=\"fosFilterengineering\" class=\"search-fos-menu__dropdown__link-list-line__radio\" value=\"engineering\"/><label class=\"search-fos-menu__dropdown__link-list-line__label\" for=\"fosFilterengineering\">Engineering</label></li><li class=\"search-fos-menu__dropdown__link-list-line\"><input type=\"radio\" name=\"fosFilter\" id=\"fosFilterenvironmental-science\" class=\"search-fos-menu__dropdown__link-list-line__radio\" value=\"environmental-science\"/><label class=\"search-fos-menu__dropdown__link-list-line__label\" for=\"fosFilterenvironmental-science\">Environmental Science</label></li><li class=\"search-fos-menu__dropdown__link-list-line\"><input type=\"radio\" name=\"fosFilter\" id=\"fosFiltergeography\" class=\"search-fos-menu__dropdown__link-list-line__radio\" value=\"geography\"/><label class=\"search-fos-menu__dropdown__link-list-line__label\" for=\"fosFiltergeography\">Geography</label></li><li class=\"search-fos-menu__dropdown__link-list-line\"><input type=\"radio\" name=\"fosFilter\" id=\"fosFiltergeology\" class=\"search-fos-menu__dropdown__link-list-line__radio\" value=\"geology\"/><label class=\"search-fos-menu__dropdown__link-list-line__label\" for=\"fosFiltergeology\">Geology</label></li><li class=\"search-fos-menu__dropdown__link-list-line\"><input type=\"radio\" name=\"fosFilter\" id=\"fosFilterhistory\" class=\"search-fos-menu__dropdown__link-list-line__radio\" value=\"history\"/><label class=\"search-fos-menu__dropdown__link-list-line__label\" for=\"fosFilterhistory\">History</label></li><li class=\"search-fos-menu__dropdown__link-list-line\"><input type=\"radio\" name=\"fosFilter\" id=\"fosFiltermaterials-science\" class=\"search-fos-menu__dropdown__link-list-line__radio\" value=\"materials-science\"/><label class=\"search-fos-menu__dropdown__link-list-line__label\" for=\"fosFiltermaterials-science\">Materials Science</label></li><li class=\"search-fos-menu__dropdown__link-list-line\"><input type=\"radio\" name=\"fosFilter\" id=\"fosFiltermathematics\" class=\"search-fos-menu__dropdown__link-list-line__radio\" value=\"mathematics\"/><label class=\"search-fos-menu__dropdown__link-list-line__label\" for=\"fosFiltermathematics\">Mathematics</label></li><li class=\"search-fos-menu__dropdown__link-list-line\"><input type=\"radio\" name=\"fosFilter\" id=\"fosFiltermedicine\" class=\"search-fos-menu__dropdown__link-list-line__radio\" value=\"medicine\"/><label class=\"search-fos-menu__dropdown__link-list-line__label\" for=\"fosFiltermedicine\">Medicine</label></li><li class=\"search-fos-menu__dropdown__link-list-line\"><input type=\"radio\" name=\"fosFilter\" id=\"fosFilterphilosophy\" class=\"search-fos-menu__dropdown__link-list-line__radio\" value=\"philosophy\"/><label class=\"search-fos-menu__dropdown__link-list-line__label\" for=\"fosFilterphilosophy\">Philosophy</label></li><li class=\"search-fos-menu__dropdown__link-list-line\"><input type=\"radio\" name=\"fosFilter\" id=\"fosFilterphysics\" class=\"search-fos-menu__dropdown__link-list-line__radio\" value=\"physics\"/><label class=\"search-fos-menu__dropdown__link-list-line__label\" for=\"fosFilterphysics\">Physics</label></li><li class=\"search-fos-menu__dropdown__link-list-line\"><input type=\"radio\" name=\"fosFilter\" id=\"fosFilterpolitical-science\" class=\"search-fos-menu__dropdown__link-list-line__radio\" value=\"political-science\"/><label class=\"search-fos-menu__dropdown__link-list-line__label\" for=\"fosFilterpolitical-science\">Political Science</label></li><li class=\"search-fos-menu__dropdown__link-list-line\"><input type=\"radio\" name=\"fosFilter\" id=\"fosFilterpsychology\" class=\"search-fos-menu__dropdown__link-list-line__radio\" value=\"psychology\"/><label class=\"search-fos-menu__dropdown__link-list-line__label\" for=\"fosFilterpsychology\">Psychology</label></li><li class=\"search-fos-menu__dropdown__link-list-line\"><input type=\"radio\" name=\"fosFilter\" id=\"fosFiltersociology\" class=\"search-fos-menu__dropdown__link-list-line__radio\" value=\"sociology\"/><label class=\"search-fos-menu__dropdown__link-list-line__label\" for=\"fosFiltersociology\">Sociology</label></li></ul></div></div></div></div></span></div><div class=\"flex-row-vcenter input-bg\"><div class=\"search-icon\"><svg width=\"18\" height=\"18\" class=\"icon-svg icon-search\" data-selenium-selector=\"icon-search\"><use xlink:href=\"#search\"></use></svg></div><input type=\"search\" name=\"q\" aria-label=\"Search text\" class=\"input form-input\" placeholder=\"Search 178,608,491 papers from all fields of science\" value=\"&quot;survey of earned doctorates&quot;\"/><input type=\"submit\" class=\"form-submit\" aria-label=\"Submit\"/><div class=\"clear-icon\"><svg width=\"16\" height=\"16\" class=\"icon-svg icon-clear-input\" data-selenium-selector=\"icon-clear-input\"><use xlink:href=\"#clear-input\"></use></svg></div></div></div></form><div class=\"header-right flex-right flex-row-vcenter\"><a class=\"flex-row faq-link\" href=\"/faq\">FAQ</a><a class=\"flex-row feedback-link\" tabindex=\"0\" role=\"button\" aria-label=\"Open Contact form\">Contact</a><span class=\"middot\">•</span><div class=\"account-menu\"><div class=\"account-menu__signed-out account-menu__show-sign-up\"><button class=\"button button--tertiary\" role=\"button\" aria-label=\"Sign In\" data-selenium-selector=\"reading-list-sign-in\" data-heap-id=\"sign_in_modal_button\">Sign In</button><button class=\"button button--secondary\" role=\"button\" aria-label=\"Create Free Account\" data-heap-id=\"sign_up_modal_button\">Create Free Account</button></div></div></div></div></header><div class=\"header-spacer\"></div></div><section class=\"content\" role=\"main\" id=\"main-content\"><div class=\"container loading-controls flex-row-vcenter\"><svg class=\"loading-indicator is-animating icon-svg icon-gear\" width=\"16\" height=\"16\" data-selenium-selector=\"icon-loading-serp\"><use xlink:href=\"#gear\"></use></svg> Loading results</div></section></div><svg xmlns=\"http://www.w3.org/2000/svg\" style=\"display:none\"><symbol id=\"clear-input\" viewBox=\"0 0 16 16\"><path d=\"M8,0C3.6,0,0,3.6,0,8s3.6,8,8,8c4.4,0,8-3.6,8-8S12.4,0,8,0z M11.5,10.7c0.1,0.1,0.1,0.4,0,0.5l-0.3,0.3 c-0.1,0.1-0.4,0.1-0.5,0L8,8.9l-2.7,2.7c-0.1,0.1-0.4,0.1-0.5,0l-0.3-0.3c-0.1-0.1-0.1-0.4,0-0.5L7.1,8L4.5,5.3 c-0.1-0.1-0.1-0.4,0-0.5l0.3-0.3c0.1-0.1,0.4-0.1,0.5,0L8,7.1l2.7-2.7c0.1-0.1,0.4-0.1,0.5,0l0.3,0.3c0.1,0.1,0.1,0.4,0,0.5L8.9,8 L11.5,10.7z\"></path></symbol><symbol id=\"gear\" viewBox=\"0 0 32 32\"><path d=\"M29.397,17.48c-0.083,0.735-0.521,1.134-1.277,1.142c-0.784,0.009-1.572,0.021-2.356-0.005c-0.426-0.014-0.758,0.128-1.033,0.421c-0.201,0.216-0.401,0.438-0.575,0.674 c-0.486,0.664-0.435,1.258,0.151,1.841c0.592,0.587,1.191,1.169,1.784,1.757c0.591,0.586,0.589,1.181,0,1.762 c-0.644,0.632-1.284,1.264-1.927,1.895c-0.59,0.58-1.192,0.579-1.79-0.007c-0.574-0.559-1.135-1.133-1.721-1.679 c-0.159-0.147-0.395-0.307-0.595-0.305c-0.558,0.005-1.138,0.012-1.666,0.162c-0.588,0.17-0.769,0.709-0.773,1.282 c-0.006,0.826,0.008,1.654-0.008,2.483c-0.005,0.232-0.045,0.481-0.144,0.69c-0.187,0.399-0.551,0.609-0.987,0.616 c-0.992,0.02-1.988,0.038-2.98-0.004c-0.729-0.033-1.127-0.509-1.137-1.236c-0.008-0.815,0.018-1.633-0.015-2.449 c-0.008-0.241-0.095-0.543-0.258-0.706c-0.359-0.363-0.765-0.691-1.197-0.968c-0.414-0.267-1.031-0.098-1.476,0.333 c-0.607,0.589-1.207,1.188-1.811,1.777c-0.607,0.596-1.2,0.591-1.812-0.011c-0.651-0.64-1.302-1.278-1.949-1.92 c-0.533-0.526-0.538-1.135-0.006-1.668c0.582-0.582,1.182-1.144,1.752-1.739c0.156-0.163,0.319-0.408,0.319-0.614 c0-0.538-0.031-1.091-0.161-1.609c-0.118-0.475-0.554-0.706-1.034-0.741c-0.518-0.038-1.04-0.01-1.56-0.01c0-0.006,0-0.013,0-0.02 c-0.432,0-0.864,0.005-1.295-0.002c-0.767-0.012-1.244-0.415-1.274-1.172c-0.037-0.944-0.037-1.893,0.003-2.837 c0.032-0.755,0.509-1.153,1.282-1.162c0.82-0.007,1.64,0.02,2.458-0.014c0.254-0.011,0.565-0.104,0.744-0.27 c0.358-0.333,0.675-0.721,0.946-1.125c0.285-0.426,0.132-1.039-0.314-1.485C5.108,9.961,4.501,9.372,3.9,8.777 c-0.61-0.603-0.609-1.183,0-1.783c0.643-0.633,1.284-1.265,1.927-1.896C6.4,4.534,7.011,4.534,7.592,5.103 c0.574,0.56,1.134,1.134,1.721,1.68c0.16,0.149,0.393,0.311,0.591,0.309c0.567-0.003,1.158-0.007,1.696-0.161 c0.57-0.164,0.751-0.698,0.757-1.257c0.01-0.807,0.001-1.613,0.005-2.419c0-0.141,0.005-0.284,0.024-0.423 c0.068-0.459,0.4-0.844,0.867-0.919c1.154-0.189,2.315-0.194,3.468,0c0.553,0.092,0.885,0.556,0.893,1.176 c0.01,0.784,0.02,1.569-0.003,2.353c-0.013,0.404,0.116,0.728,0.407,0.991c0.245,0.219,0.495,0.437,0.766,0.625 c0.617,0.427,1.223,0.374,1.766-0.149c0.617-0.594,1.222-1.202,1.834-1.8c0.594-0.581,1.19-0.576,1.789,0.012 c0.658,0.647,1.316,1.293,1.973,1.942c0.514,0.51,0.519,1.13,0.006,1.644c-0.583,0.584-1.184,1.148-1.753,1.741 c-0.157,0.165-0.326,0.405-0.326,0.612c0.001,0.548,0.013,1.118,0.165,1.638c0.168,0.563,0.706,0.746,1.274,0.753 c0.786,0.01,1.572,0.002,2.359,0.002c0.098,0,0.197-0.001,0.298,0.002c0.697,0.026,1.163,0.408,1.215,1.094 c0.058,0.79,0.046,1.587,0.058,2.381C29.443,17.11,29.417,17.296,29.397,17.48z M15.013,11.008c-2.632,0-4.765,2.114-4.765,4.723 c0,2.608,2.133,4.721,4.765,4.721c2.631,0,4.766-2.113,4.766-4.721C19.778,13.122,17.644,11.008,15.013,11.008z\"></path></symbol><symbol id=\"search\" viewBox=\"0 0 32 32\"><path d=\"M29,28l-7.7-7.7c3.6-4.1,3.4-10.4-0.5-14.4C16.7,1.8,10,1.8,5.9,5.9c-4.1,4.1-4.1,10.8,0,14.9c2.1,2.1,4.8,3.1,7.5,3.1 c2.5,0,4.9-0.9,6.9-2.6L28,29c0.1,0.1,0.3,0.2,0.5,0.2c0.2,0,0.4-0.1,0.5-0.2C29.3,28.7,29.3,28.2,29,28z M6.9,19.8 c-3.5-3.5-3.5-9.3,0-12.8c1.8-1.8,4.1-2.7,6.4-2.7s4.7,0.9,6.4,2.7c3.5,3.5,3.5,9.3,0,12.8C16.2,23.3,10.5,23.3,6.9,19.8z\"></path></symbol></svg></div></div>\\n    <script>var DATA = \\'JTVCJTdCJTIyYWN0aW9uVHlwZSUyMiUzQSUyMkFQSV9SRVFVRVNUX0NPTVBMRVRFJTIyJTJDJTIycmVxdWVzdFR5cGUlMjIlM0ElMjJHRVRfVE9UQUxfUEFQRVJTX0NPVU5UJTIyJTJDJTIycmVzdWx0RGF0YSUyMiUzQSU3QiUyMmNvdW50JTIyJTNBMTc4NjA4NDkxJTdEJTJDJTIycGF0aCUyMiUzQSUyMiUyRnNlYXJjaCUyRnBhcGVyJTJGY291bnQlMjIlMkMlMjJwYXRoUGFyYW1zJTIyJTNBJTdCJTdEJTdEJTJDJTdCJTIycXVlcnklMjIlM0ElN0IlMjJxJTIyJTNBJTIyJTVDJTIyc3VydmV5JTIwb2YlMjBlYXJuZWQlMjBkb2N0b3JhdGVzJTVDJTIyJTIyJTJDJTIyc29ydCUyMiUzQSUyMnJlbGV2YW5jZSUyMiU3RCUyQyUyMmFjdGlvblR5cGUlMjIlM0ElMjJRVUVSWV9VUERBVEVEJTIyJTdEJTVE\\';</script>\\n    <script>window.S2_WEBLAB_CONFIG = {\"experimentsDynamicConfig\":\"{\\\\\"serp_density\\\\\":{\\\\\"id\\\\\":21,\\\\\"key\\\\\":\\\\\"serp_density\\\\\",\\\\\"variations\\\\\":[{\\\\\"key\\\\\":\\\\\"control\\\\\",\\\\\"ratio\\\\\":1},{\\\\\"key\\\\\":\\\\\"visible_compact\\\\\",\\\\\"ratio\\\\\":0},{\\\\\"key\\\\\":\\\\\"visible_comfortable\\\\\",\\\\\"ratio\\\\\":0}],\\\\\"trafficRatio\\\\\":1,\\\\\"status\\\\\":{\\\\\"value\\\\\":\\\\\"FINISHED\\\\\"},\\\\\"salt\\\\\":\\\\\"serp_density\\\\\",\\\\\"createdAtUtc\\\\\":1572896186.193744,\\\\\"createdByUser\\\\\":257168},\\\\\"new_ab_framework_aa\\\\\":{\\\\\"id\\\\\":1,\\\\\"key\\\\\":\\\\\"new_ab_framework_aa\\\\\",\\\\\"variations\\\\\":[{\\\\\"key\\\\\":\\\\\"control\\\\\",\\\\\"ratio\\\\\":0.5},{\\\\\"key\\\\\":\\\\\"test\\\\\",\\\\\"ratio\\\\\":0.5}],\\\\\"trafficRatio\\\\\":1,\\\\\"status\\\\\":{\\\\\"value\\\\\":\\\\\"RUNNING\\\\\"},\\\\\"salt\\\\\":\\\\\"new_ab_framework_aa\\\\\",\\\\\"createdAtUtc\\\\\":1570039325.120569,\\\\\"createdByUser\\\\\":243672},\\\\\"similar_papers_shoveler\\\\\":{\\\\\"id\\\\\":7,\\\\\"key\\\\\":\\\\\"similar_papers_shoveler\\\\\",\\\\\"variations\\\\\":[{\\\\\"key\\\\\":\\\\\"control\\\\\",\\\\\"ratio\\\\\":0.5},{\\\\\"key\\\\\":\\\\\"with_carousel\\\\\",\\\\\"ratio\\\\\":0.5}],\\\\\"trafficRatio\\\\\":1,\\\\\"status\\\\\":{\\\\\"value\\\\\":\\\\\"RUNNING\\\\\"},\\\\\"salt\\\\\":\\\\\"similar_papers_shoveler\\\\\",\\\\\"createdAtUtc\\\\\":1570230564.402452,\\\\\"createdByUser\\\\\":104960},\\\\\"new_ab_framework_mock_ab\\\\\":{\\\\\"id\\\\\":2,\\\\\"key\\\\\":\\\\\"new_ab_framework_mock_ab\\\\\",\\\\\"variations\\\\\":[{\\\\\"key\\\\\":\\\\\"control\\\\\",\\\\\"ratio\\\\\":0.34},{\\\\\"key\\\\\":\\\\\"test_50\\\\\",\\\\\"ratio\\\\\":0.33},{\\\\\"key\\\\\":\\\\\"test_90\\\\\",\\\\\"ratio\\\\\":0.33}],\\\\\"trafficRatio\\\\\":0.5,\\\\\"status\\\\\":{\\\\\"value\\\\\":\\\\\"RUNNING\\\\\"},\\\\\"salt\\\\\":\\\\\"new_ab_framework_mock_ab\\\\\",\\\\\"createdAtUtc\\\\\":1570039325.120569,\\\\\"createdByUser\\\\\":243672},\\\\\"login_demographics_modal_V2\\\\\":{\\\\\"id\\\\\":19,\\\\\"key\\\\\":\\\\\"login_demographics_modal_V2\\\\\",\\\\\"variations\\\\\":[{\\\\\"key\\\\\":\\\\\"control\\\\\",\\\\\"ratio\\\\\":1},{\\\\\"key\\\\\":\\\\\"show_modal\\\\\",\\\\\"ratio\\\\\":0}],\\\\\"trafficRatio\\\\\":1,\\\\\"status\\\\\":{\\\\\"value\\\\\":\\\\\"FINISHED\\\\\"},\\\\\"salt\\\\\":\\\\\"login_demographics_modal_V2\\\\\",\\\\\"createdAtUtc\\\\\":1572296488.514184,\\\\\"createdByUser\\\\\":257168},\\\\\"s2_logo_redesign\\\\\":{\\\\\"id\\\\\":20,\\\\\"key\\\\\":\\\\\"s2_logo_redesign\\\\\",\\\\\"variations\\\\\":[{\\\\\"key\\\\\":\\\\\"control\\\\\",\\\\\"ratio\\\\\":0.5},{\\\\\"key\\\\\":\\\\\"new_logo\\\\\",\\\\\"ratio\\\\\":0.5}],\\\\\"trafficRatio\\\\\":1,\\\\\"status\\\\\":{\\\\\"value\\\\\":\\\\\"RUNNING\\\\\"},\\\\\"salt\\\\\":\\\\\"s2_logo_redesign\\\\\",\\\\\"createdAtUtc\\\\\":1572895442.494931,\\\\\"createdByUser\\\\\":257168},\\\\\"split_by_route\\\\\":{\\\\\"id\\\\\":17,\\\\\"key\\\\\":\\\\\"split_by_route\\\\\",\\\\\"variations\\\\\":[{\\\\\"key\\\\\":\\\\\"control\\\\\",\\\\\"ratio\\\\\":0.334},{\\\\\"key\\\\\":\\\\\"split_admin_route\\\\\",\\\\\"ratio\\\\\":0.333},{\\\\\"key\\\\\":\\\\\"split_react_player_route\\\\\",\\\\\"ratio\\\\\":0.333}],\\\\\"trafficRatio\\\\\":1,\\\\\"status\\\\\":{\\\\\"value\\\\\":\\\\\"RUNNING\\\\\"},\\\\\"salt\\\\\":\\\\\"split_by_route\\\\\",\\\\\"createdAtUtc\\\\\":1572040486.808819,\\\\\"createdByUser\\\\\":104960},\\\\\"author_page_redesign\\\\\":{\\\\\"id\\\\\":8,\\\\\"key\\\\\":\\\\\"author_page_redesign\\\\\",\\\\\"variations\\\\\":[{\\\\\"key\\\\\":\\\\\"control\\\\\",\\\\\"ratio\\\\\":0},{\\\\\"key\\\\\":\\\\\"ahp_redesign\\\\\",\\\\\"ratio\\\\\":1}],\\\\\"trafficRatio\\\\\":1,\\\\\"status\\\\\":{\\\\\"value\\\\\":\\\\\"FINISHED\\\\\"},\\\\\"salt\\\\\":\\\\\"author_page_redesign\\\\\",\\\\\"createdAtUtc\\\\\":1570470623.090848,\\\\\"createdByUser\\\\\":104960},\\\\\"login_demographics_modal\\\\\":{\\\\\"id\\\\\":10,\\\\\"key\\\\\":\\\\\"login_demographics_modal\\\\\",\\\\\"variations\\\\\":[{\\\\\"key\\\\\":\\\\\"control\\\\\",\\\\\"ratio\\\\\":1},{\\\\\"key\\\\\":\\\\\"show_modal\\\\\",\\\\\"ratio\\\\\":0}],\\\\\"trafficRatio\\\\\":1,\\\\\"status\\\\\":{\\\\\"value\\\\\":\\\\\"FINISHED\\\\\"},\\\\\"salt\\\\\":\\\\\"login_demographics_modal\\\\\",\\\\\"createdAtUtc\\\\\":1570646352.207529,\\\\\"createdByUser\\\\\":257168},\\\\\"figure_modal_with_sticky_footer\\\\\":{\\\\\"id\\\\\":14,\\\\\"key\\\\\":\\\\\"figure_modal_with_sticky_footer\\\\\",\\\\\"variations\\\\\":[{\\\\\"key\\\\\":\\\\\"control\\\\\",\\\\\"ratio\\\\\":0},{\\\\\"key\\\\\":\\\\\"sticky_footer\\\\\",\\\\\"ratio\\\\\":1},{\\\\\"key\\\\\":\\\\\"also_control\\\\\",\\\\\"ratio\\\\\":0},{\\\\\"key\\\\\":\\\\\"also_sticky_footer\\\\\",\\\\\"ratio\\\\\":0}],\\\\\"trafficRatio\\\\\":1,\\\\\"status\\\\\":{\\\\\"value\\\\\":\\\\\"FINISHED\\\\\"},\\\\\"salt\\\\\":\\\\\"figure_modal_with_sticky_footer\\\\\",\\\\\"createdAtUtc\\\\\":1571682507.920638,\\\\\"createdByUser\\\\\":257168},\\\\\"pdp_fields_of_study_meta\\\\\":{\\\\\"id\\\\\":13,\\\\\"key\\\\\":\\\\\"pdp_fields_of_study_meta\\\\\",\\\\\"variations\\\\\":[{\\\\\"key\\\\\":\\\\\"control\\\\\",\\\\\"ratio\\\\\":1},{\\\\\"key\\\\\":\\\\\"fields_of_study\\\\\",\\\\\"ratio\\\\\":0}],\\\\\"trafficRatio\\\\\":1,\\\\\"status\\\\\":{\\\\\"value\\\\\":\\\\\"FINISHED\\\\\"},\\\\\"salt\\\\\":\\\\\"pdp_fields_of_study_meta\\\\\",\\\\\"createdAtUtc\\\\\":1571345525.982375,\\\\\"createdByUser\\\\\":257168},\\\\\"paper_abstract_highlight\\\\\":{\\\\\"id\\\\\":18,\\\\\"key\\\\\":\\\\\"paper_abstract_highlight\\\\\",\\\\\"variations\\\\\":[{\\\\\"key\\\\\":\\\\\"control\\\\\",\\\\\"ratio\\\\\":0.5},{\\\\\"key\\\\\":\\\\\"highlighted_abstract\\\\\",\\\\\"ratio\\\\\":0.5}],\\\\\"trafficRatio\\\\\":1,\\\\\"status\\\\\":{\\\\\"value\\\\\":\\\\\"RUNNING\\\\\"},\\\\\"salt\\\\\":\\\\\"paper_abstract_highlight\\\\\",\\\\\"createdAtUtc\\\\\":1572292570.975421,\\\\\"createdByUser\\\\\":257168},\\\\\"pdp_fields_of_study_meta_v2\\\\\":{\\\\\"id\\\\\":15,\\\\\"key\\\\\":\\\\\"pdp_fields_of_study_meta_v2\\\\\",\\\\\"variations\\\\\":[{\\\\\"key\\\\\":\\\\\"control\\\\\",\\\\\"ratio\\\\\":0.5},{\\\\\"key\\\\\":\\\\\"fields_of_study\\\\\",\\\\\"ratio\\\\\":0.5}],\\\\\"trafficRatio\\\\\":1,\\\\\"status\\\\\":{\\\\\"value\\\\\":\\\\\"RUNNING\\\\\"},\\\\\"salt\\\\\":\\\\\"pdp_fields_of_study_meta_v2\\\\\",\\\\\"createdAtUtc\\\\\":1571776059.724717,\\\\\"createdByUser\\\\\":257168}}\",\"featuresDynamicConfig\":\"{}\"};</script>\\n    <!--S2_FEATURE_OVERRIDES-->\\n    <script src=\"https://dab4rbh62k56j.cloudfront.net/826913ede5c5160a/js__split-admin-route/AppEntry.js\" async defer></script>\\n    <script>\\n      /*@cc_on\\n        // This executes in MSIE < 11 and shows a message encouraging the user to upgrade\\n        (function(d) {\\n          var s = d.createElement(\\'script\\'); s.src = \"https://dab4rbh62k56j.cloudfront.net/826913ede5c5160a/js/unsupported-client.js\";\\n          d.head.appendChild(s);\\n        }(document));\\n      @*/\\n    </script>\\n    \\n  </body>\\n</html>\\n'"
      ]
     },
     "execution_count": 9,
     "metadata": {},
     "output_type": "execute_result"
    }
   ],
   "source": [
    "response"
   ]
  },
  {
   "cell_type": "code",
   "execution_count": null,
   "metadata": {},
   "outputs": [],
   "source": []
  }
 ],
 "metadata": {
  "kernelspec": {
   "display_name": "Python 3",
   "language": "python",
   "name": "python3"
  },
  "language_info": {
   "codemirror_mode": {
    "name": "ipython",
    "version": 3
   },
   "file_extension": ".py",
   "mimetype": "text/x-python",
   "name": "python",
   "nbconvert_exporter": "python",
   "pygments_lexer": "ipython3",
   "version": "3.7.3"
  }
 },
 "nbformat": 4,
 "nbformat_minor": 2
}
