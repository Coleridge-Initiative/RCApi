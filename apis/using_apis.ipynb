{
 "cells": [
  {
   "cell_type": "markdown",
   "metadata": {},
   "source": [
    "### Testing out different apis with different inputs"
   ]
  },
  {
   "cell_type": "markdown",
   "metadata": {},
   "source": [
    "Read in publications.json and identify a random entry"
   ]
  },
  {
   "cell_type": "code",
   "execution_count": 26,
   "metadata": {},
   "outputs": [],
   "source": [
    "import json\n",
    "with open('all_pubs.json') as json_file:\n",
    "    publications = json.load(json_file)"
   ]
  },
  {
   "cell_type": "markdown",
   "metadata": {},
   "source": [
    "#### Fetch by title"
   ]
  },
  {
   "cell_type": "markdown",
   "metadata": {},
   "source": [
    "##### Dimensions"
   ]
  },
  {
   "cell_type": "code",
   "execution_count": 34,
   "metadata": {},
   "outputs": [
    {
     "data": {
      "text/plain": [
       "<module 'RichContextAPI' from '/Users/sophierand/RCApi/apis/RichContextAPI.py'>"
      ]
     },
     "execution_count": 34,
     "metadata": {},
     "output_type": "execute_result"
    }
   ],
   "source": [
    "import RichContextAPI\n",
    "import importlib\n",
    "importlib.reload(RichContextAPI)"
   ]
  },
  {
   "cell_type": "code",
   "execution_count": 28,
   "metadata": {},
   "outputs": [],
   "source": [
    "test_case = publications[0]\n",
    "# test_case = publications[44]"
   ]
  },
  {
   "cell_type": "code",
   "execution_count": 35,
   "metadata": {},
   "outputs": [
    {
     "name": "stdout",
     "output_type": "stream",
     "text": [
      "API credentials have been set\n"
     ]
    }
   ],
   "source": [
    "dimensions_results = RichContextAPI.dimensions_title_search(test_case['title'])"
   ]
  },
  {
   "cell_type": "code",
   "execution_count": 38,
   "metadata": {},
   "outputs": [],
   "source": [
    "# dimensions_results['title']"
   ]
  },
  {
   "cell_type": "markdown",
   "metadata": {},
   "source": [
    "##### SSRN"
   ]
  },
  {
   "cell_type": "code",
   "execution_count": 22,
   "metadata": {},
   "outputs": [],
   "source": [
    "test_case = publications[44]"
   ]
  },
  {
   "cell_type": "code",
   "execution_count": 23,
   "metadata": {},
   "outputs": [],
   "source": [
    "ssrn_results = RichContextAPI.ssrn_main(test_case)"
   ]
  },
  {
   "cell_type": "markdown",
   "metadata": {},
   "source": [
    "##### RePEc"
   ]
  },
  {
   "cell_type": "code",
   "execution_count": null,
   "metadata": {},
   "outputs": [],
   "source": [
    "import urllib\n",
    "from bs4 import BeautifulSoup"
   ]
  },
  {
   "cell_type": "code",
   "execution_count": null,
   "metadata": {},
   "outputs": [],
   "source": [
    "def get_repec_handle (title):\n",
    "    enc_title = urllib.parse.quote_plus(title.replace(\"(\", \"\").replace(\")\", \"\").replace(\":\", \"\"))\n",
    "\n",
    "    cgi_url = \"https://ideas.repec.org/cgi-bin/htsearch?q={}\".format(enc_title)\n",
    "    response = requests.get(cgi_url).text\n",
    "    #print(BeautifulSoup(response, \"html.parser\").prettify())\n",
    "\n",
    "    soup = BeautifulSoup(response, \"html.parser\")\n",
    "    ol = soup.find(\"ol\", {\"class\": \"list-group\"})\n",
    "    results = ol.findChildren()\n",
    "\n",
    "    if len(results) > 0:\n",
    "        li = results[0]\n",
    "        handle = li.find(\"i\").get_text()\n",
    "        return handle\n",
    "    else:\n",
    "        return None"
   ]
  },
  {
   "cell_type": "code",
   "execution_count": null,
   "metadata": {},
   "outputs": [],
   "source": [
    "title = \"The use of cash and debit cards as payment instruments in Colombia\""
   ]
  },
  {
   "cell_type": "code",
   "execution_count": null,
   "metadata": {},
   "outputs": [],
   "source": [
    "a = get_repec_handle(title)"
   ]
  },
  {
   "cell_type": "code",
   "execution_count": null,
   "metadata": {},
   "outputs": [],
   "source": [
    "a"
   ]
  },
  {
   "cell_type": "code",
   "execution_count": null,
   "metadata": {},
   "outputs": [],
   "source": [
    "import requests\n",
    "# handle = \"RePEc:lde:journl:y:2019:i:90:p:71-95\"\n",
    "token = 'd9kHt3Cm'"
   ]
  },
  {
   "cell_type": "code",
   "execution_count": null,
   "metadata": {},
   "outputs": [],
   "source": [
    "api_url = \"https://api.repec.org/call.cgi?code={}&getref={}\".format(token, a)\n",
    "response = requests.get(api_url).text"
   ]
  },
  {
   "cell_type": "markdown",
   "metadata": {},
   "source": [
    "##### EuropePMC"
   ]
  },
  {
   "cell_type": "code",
   "execution_count": null,
   "metadata": {},
   "outputs": [],
   "source": [
    "def get_europepmc_metadata (url):\n",
    "    \"\"\"\n",
    "    parse metadata from a Europe PMC web page for a publication\n",
    "    \"\"\"\n",
    "\n",
    "    # <meta content=\"http://europepmc.org/articles/PMC2819787?pdf=render\" name=\"citation_pdf_url\"/>\n",
    "    # <meta content=\"10.3390/ijerph7010269\" name=\"citation_doi\"/>\n",
    "    # <meta content=\"Int J Environ Res Public Health\" name=\"citation_journal_abbrev\"/>\n",
    "\n",
    "    response = requests.get(url).text\n",
    "    #print(BeautifulSoup(response, \"html.parser\").prettify())\n",
    "\n",
    "    publisher = None\n",
    "    doi = None\n",
    "    pdf = None\n",
    "\n",
    "    soup = BeautifulSoup(response, \"html.parser\")\n",
    "\n",
    "    for x in soup.find_all(\"span\", {\"id\": \"pmcmata\"}):\n",
    "        publisher = x.get_text()\n",
    "\n",
    "    for x in soup.find_all(\"meta\",  {\"name\": \"citation_doi\"}):\n",
    "        doi = x[\"content\"]\n",
    "\n",
    "    for x in soup.find_all(\"meta\",  {\"name\": \"citation_pdf_url\"}):\n",
    "        pdf = x[\"content\"]\n",
    "\n",
    "    if publisher and doi and pdf:\n",
    "        return [publisher, doi, pdf]\n",
    "    else:\n",
    "        return None\n"
   ]
  },
  {
   "cell_type": "markdown",
   "metadata": {},
   "source": [
    "### MAIN"
   ]
  },
  {
   "cell_type": "code",
   "execution_count": null,
   "metadata": {},
   "outputs": [],
   "source": [
    "if 'ssrn' in test_case['doi'] or 'ssrn' in test_case['url']:\n",
    "    ssrn_results = RichContextAPI.ssrn_main(test_case)"
   ]
  }
 ],
 "metadata": {
  "kernelspec": {
   "display_name": "Python 3",
   "language": "python",
   "name": "python3"
  },
  "language_info": {
   "codemirror_mode": {
    "name": "ipython",
    "version": 3
   },
   "file_extension": ".py",
   "mimetype": "text/x-python",
   "name": "python",
   "nbconvert_exporter": "python",
   "pygments_lexer": "ipython3",
   "version": "3.7.3"
  }
 },
 "nbformat": 4,
 "nbformat_minor": 2
}
