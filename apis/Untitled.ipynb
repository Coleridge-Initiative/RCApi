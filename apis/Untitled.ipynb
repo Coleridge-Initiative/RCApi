{
 "cells": [
  {
   "cell_type": "markdown",
   "metadata": {},
   "source": [
    "### Testing out different apis with different inputs"
   ]
  },
  {
   "cell_type": "markdown",
   "metadata": {},
   "source": [
    "Read in publications.json and identify a random entry"
   ]
  },
  {
   "cell_type": "code",
   "execution_count": 1,
   "metadata": {},
   "outputs": [],
   "source": [
    "import json\n",
    "with open('all_pubs.json') as json_file:\n",
    "    publications = json.load(json_file)"
   ]
  },
  {
   "cell_type": "markdown",
   "metadata": {},
   "source": [
    "#### Fetch by title"
   ]
  },
  {
   "cell_type": "markdown",
   "metadata": {},
   "source": [
    "##### Dimensions"
   ]
  },
  {
   "cell_type": "code",
   "execution_count": 7,
   "metadata": {},
   "outputs": [
    {
     "data": {
      "text/plain": [
       "<module 'RichContextAPI' from '/Users/sophierand/RichContextMetadata/apis/RichContextAPI.py'>"
      ]
     },
     "execution_count": 7,
     "metadata": {},
     "output_type": "execute_result"
    }
   ],
   "source": [
    "import RichContextAPI\n",
    "import importlib\n",
    "importlib.reload(RichContextAPI)"
   ]
  },
  {
   "cell_type": "code",
   "execution_count": 18,
   "metadata": {},
   "outputs": [],
   "source": [
    "test_case = publications[0]\n",
    "# test_case = publications[44]\n",
    "# test_case\n"
   ]
  },
  {
   "cell_type": "code",
   "execution_count": 6,
   "metadata": {},
   "outputs": [],
   "source": [
    "a = RichContextAPI.dimensions_main(test_case)"
   ]
  },
  {
   "cell_type": "markdown",
   "metadata": {},
   "source": [
    "##### SSRN"
   ]
  },
  {
   "cell_type": "code",
   "execution_count": 9,
   "metadata": {},
   "outputs": [
    {
     "data": {
      "text/plain": [
       "'https://www.economics.uci.edu/research/wp/1718/17-18-04.pdf'"
      ]
     },
     "execution_count": 9,
     "metadata": {},
     "output_type": "execute_result"
    }
   ],
   "source": [
    "test_case['url']"
   ]
  },
  {
   "cell_type": "code",
   "execution_count": 13,
   "metadata": {},
   "outputs": [
    {
     "data": {
      "text/plain": [
       "'https://www.economics.uci.edu/research/wp/1718/17-18-04.pdf'"
      ]
     },
     "execution_count": 13,
     "metadata": {},
     "output_type": "execute_result"
    }
   ],
   "source": [
    "test_case['dimensions']['linkout']"
   ]
  },
  {
   "cell_type": "code",
   "execution_count": null,
   "metadata": {},
   "outputs": [],
   "source": [
    "\"Household Food Security in the United States in 2013\""
   ]
  },
  {
   "cell_type": "code",
   "execution_count": 15,
   "metadata": {},
   "outputs": [],
   "source": [
    "def build_dict(seq, key):\n",
    "    return dict((d[key], dict(d, index=index)) for (index, d) in enumerate(seq))\n",
    "\n",
    "info_by_name = build_dict(publications, key=\"title\")\n",
    "tom_info = info_by_name.get(\"Household Food Security in the United States in 2013\")"
   ]
  },
  {
   "cell_type": "code",
   "execution_count": 16,
   "metadata": {},
   "outputs": [
    {
     "data": {
      "text/plain": [
       "{'title': 'Household Food Security in the United States in 2013',\n",
       " 'url': 'https://www.ers.usda.gov/publications/pub-details/?pubid=45268',\n",
       " 'related_dataset': [{'dataset_id': 'dataset-033'}],\n",
       " 'dimensions': {'researchers': [{'id': 'ur.01256022523.75',\n",
       "    'last_name': 'Coleman-Jensen',\n",
       "    'research_orgs': ['grid.253563.4',\n",
       "     'grid.29857.31',\n",
       "     'grid.482913.5',\n",
       "     'grid.463419.d'],\n",
       "    'first_name': 'Alisha Judith'},\n",
       "   {'id': 'ur.015523362545.65',\n",
       "    'last_name': 'Gregory',\n",
       "    'first_name': 'Christian A'}],\n",
       "  'concepts': ['household food security',\n",
       "   'food security',\n",
       "   'security',\n",
       "   'United States',\n",
       "   'state'],\n",
       "  'terms': ['household food security',\n",
       "   'food security',\n",
       "   'security',\n",
       "   'United States',\n",
       "   'state'],\n",
       "  'author_affiliations': [[{'first_name': 'Alisha',\n",
       "     'last_name': 'Coleman-Jensen',\n",
       "     'corresponding': '',\n",
       "     'orcid': '',\n",
       "     'current_organization_id': 'grid.463419.d',\n",
       "     'researcher_id': 'ur.01256022523.75',\n",
       "     'affiliations': []},\n",
       "    {'first_name': 'Christian',\n",
       "     'last_name': 'Gregory',\n",
       "     'corresponding': '',\n",
       "     'orcid': '',\n",
       "     'current_organization_id': '',\n",
       "     'researcher_id': 'ur.015523362545.65',\n",
       "     'affiliations': []},\n",
       "    {'first_name': 'Anita',\n",
       "     'last_name': 'Singh',\n",
       "     'corresponding': '',\n",
       "     'orcid': '',\n",
       "     'current_organization_id': '',\n",
       "     'researcher_id': '',\n",
       "     'affiliations': []}]],\n",
       "  'authors': [{'first_name': 'Alisha',\n",
       "    'last_name': 'Coleman-Jensen',\n",
       "    'corresponding': '',\n",
       "    'orcid': '',\n",
       "    'current_organization_id': 'grid.463419.d',\n",
       "    'researcher_id': 'ur.01256022523.75',\n",
       "    'affiliations': []},\n",
       "   {'first_name': 'Christian',\n",
       "    'last_name': 'Gregory',\n",
       "    'corresponding': '',\n",
       "    'orcid': '',\n",
       "    'current_organization_id': '',\n",
       "    'researcher_id': 'ur.015523362545.65',\n",
       "    'affiliations': []},\n",
       "   {'first_name': 'Anita',\n",
       "    'last_name': 'Singh',\n",
       "    'corresponding': '',\n",
       "    'orcid': '',\n",
       "    'current_organization_id': '',\n",
       "    'researcher_id': '',\n",
       "    'affiliations': []}],\n",
       "  'journal': {'id': 'jour.1276748', 'title': 'SSRN Electronic Journal'},\n",
       "  'doi': '10.2139/ssrn.2504067',\n",
       "  'publisher': 'Elsevier',\n",
       "  'open_access_categories': [{'id': 'oa_all',\n",
       "    'name': 'All OA',\n",
       "    'description': 'Article is freely available'},\n",
       "   {'id': 'green_sub',\n",
       "    'name': 'Green, Submitted',\n",
       "    'description': 'Free copy of submitted version, or where version is unknown, in an OA repository'}],\n",
       "  'altmetric': 3,\n",
       "  'times_cited': 121,\n",
       "  'year': 2014,\n",
       "  'title': 'Household Food Security in the United States in 2013',\n",
       "  'recent_citations': 50,\n",
       "  'issn': ['1556-5068'],\n",
       "  'type': 'preprint',\n",
       "  'date': '2014-01-01',\n",
       "  'score': 1.0,\n",
       "  'id': 'pub.1102442280',\n",
       "  'date_inserted': '2018-04-06',\n",
       "  'altmetric_id': 44525634,\n",
       "  'journal_lists': ['Norwegian register level 0']},\n",
       " 'doi': '10.2139/ssrn.2504067',\n",
       " 'index': 44}"
      ]
     },
     "execution_count": 16,
     "metadata": {},
     "output_type": "execute_result"
    }
   ],
   "source": [
    "tom_info"
   ]
  },
  {
   "cell_type": "code",
   "execution_count": null,
   "metadata": {},
   "outputs": [],
   "source": [
    "# a"
   ]
  },
  {
   "cell_type": "code",
   "execution_count": null,
   "metadata": {},
   "outputs": [],
   "source": [
    "# dimensions_md"
   ]
  },
  {
   "cell_type": "code",
   "execution_count": null,
   "metadata": {},
   "outputs": [],
   "source": [
    "test_case['title']"
   ]
  },
  {
   "cell_type": "code",
   "execution_count": null,
   "metadata": {},
   "outputs": [],
   "source": [
    " \"http://europepmc.org/articles/PMC3059821\""
   ]
  },
  {
   "cell_type": "code",
   "execution_count": null,
   "metadata": {},
   "outputs": [],
   "source": [
    "def get_europepmc_metadata (url):\n",
    "    \"\"\"\n",
    "    parse metadata from a Europe PMC web page for a publication\n",
    "    \"\"\"\n",
    "\n",
    "    # <meta content=\"http://europepmc.org/articles/PMC2819787?pdf=render\" name=\"citation_pdf_url\"/>\n",
    "    # <meta content=\"10.3390/ijerph7010269\" name=\"citation_doi\"/>\n",
    "    # <meta content=\"Int J Environ Res Public Health\" name=\"citation_journal_abbrev\"/>\n",
    "\n",
    "    response = requests.get(url).text\n",
    "    #print(BeautifulSoup(response, \"html.parser\").prettify())\n",
    "\n",
    "    publisher = None\n",
    "    doi = None\n",
    "    pdf = None\n",
    "\n",
    "    soup = BeautifulSoup(response, \"html.parser\")\n",
    "\n",
    "    for x in soup.find_all(\"span\", {\"id\": \"pmcmata\"}):\n",
    "        publisher = x.get_text()\n",
    "\n",
    "    for x in soup.find_all(\"meta\",  {\"name\": \"citation_doi\"}):\n",
    "        doi = x[\"content\"]\n",
    "\n",
    "    for x in soup.find_all(\"meta\",  {\"name\": \"citation_pdf_url\"}):\n",
    "        pdf = x[\"content\"]\n",
    "\n",
    "    if publisher and doi and pdf:\n",
    "        return [publisher, doi, pdf]\n",
    "    else:\n",
    "        return None\n"
   ]
  }
 ],
 "metadata": {
  "kernelspec": {
   "display_name": "Python 3",
   "language": "python",
   "name": "python3"
  },
  "language_info": {
   "codemirror_mode": {
    "name": "ipython",
    "version": 3
   },
   "file_extension": ".py",
   "mimetype": "text/x-python",
   "name": "python",
   "nbconvert_exporter": "python",
   "pygments_lexer": "ipython3",
   "version": "3.7.3"
  }
 },
 "nbformat": 4,
 "nbformat_minor": 2
}
