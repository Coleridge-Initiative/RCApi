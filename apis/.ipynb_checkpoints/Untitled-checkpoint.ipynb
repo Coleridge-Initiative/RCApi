{
 "cells": [
  {
   "cell_type": "code",
   "execution_count": 1,
   "metadata": {},
   "outputs": [
    {
     "data": {
      "text/plain": [
       "<module 'RichContextAPI' from '/Users/sophierand/RCApi/apis/RichContextAPI.py'>"
      ]
     },
     "execution_count": 1,
     "metadata": {},
     "output_type": "execute_result"
    }
   ],
   "source": [
    "import RichContextAPI\n",
    "import call_api\n",
    "import importlib\n",
    "importlib.reload(RichContextAPI)"
   ]
  },
  {
   "cell_type": "code",
   "execution_count": 2,
   "metadata": {},
   "outputs": [],
   "source": [
    "import json\n",
    "with open('all_pubs.json') as json_file:\n",
    "    publications = json.load(json_file)"
   ]
  },
  {
   "cell_type": "code",
   "execution_count": 3,
   "metadata": {},
   "outputs": [],
   "source": [
    "# api_dict\n",
    "# test_case = publications[0]\n",
    "test_case = publications[44]\n",
    "api_test_case = call_api.assign_apis(test_case)"
   ]
  },
  {
   "cell_type": "code",
   "execution_count": 5,
   "metadata": {},
   "outputs": [],
   "source": [
    "# api_test_case"
   ]
  },
  {
   "cell_type": "code",
   "execution_count": null,
   "metadata": {},
   "outputs": [],
   "source": [
    "# RichContextAPI.search_title('Household Food Security in the United States in 2013',api_client)"
   ]
  },
  {
   "cell_type": "code",
   "execution_count": 8,
   "metadata": {},
   "outputs": [],
   "source": [
    "# ssrn_results"
   ]
  },
  {
   "cell_type": "code",
   "execution_count": 15,
   "metadata": {},
   "outputs": [],
   "source": [
    "def fetch_api_data(api_test_case):\n",
    "    api_results = {}\n",
    "    original_title = api_test_case['title']\n",
    "    print('seeking metadata on publication {}'.format(original_title) + 'from APIs: {}'.format(api_test_case['available_api']))\n",
    "    for a in api_test_case['available_api']:\n",
    "        if a == 'dimensions':\n",
    "            dimensions_results = RichContextAPI.dimensions_title_search(api_test_case['title'])\n",
    "            api_results.update({a:dimensions_results})\n",
    "        if a == 'ssrn':\n",
    "            ssrn_results = RichContextAPI.ssrn_url_search(api_test_case)\n",
    "            api_results.update({a:ssrn_results})\n",
    "    return api_results"
   ]
  },
  {
   "cell_type": "code",
   "execution_count": 16,
   "metadata": {},
   "outputs": [
    {
     "name": "stdout",
     "output_type": "stream",
     "text": [
      "API credentials have been set\n"
     ]
    }
   ],
   "source": [
    "api_results = fetch_api_data(api_test_case)"
   ]
  },
  {
   "cell_type": "code",
   "execution_count": 18,
   "metadata": {},
   "outputs": [
    {
     "data": {
      "text/plain": [
       "{'title': 'Household Food Security in the United States in 2013',\n",
       " 'keywords': ['Food security',\n",
       "  'food insecurity',\n",
       "  'food spending',\n",
       "  'food pantry',\n",
       "  'soup kitchen',\n",
       "  'emergency kitchen',\n",
       "  'material well-being',\n",
       "  'material hardship',\n",
       "  'Supplemental Nutrition Assistance Program',\n",
       "  'SNAP',\n",
       "  'Food Stamp Program',\n",
       "  'National School Lunch Program'],\n",
       " 'doi': '10.2139/ssrn.2504067',\n",
       " 'authors': [{'author_name': 'Alisha Coleman-Jensen',\n",
       "   'affl': 'U.S. Department of Agriculture (USDA) - Economic Research Service (ERS)'},\n",
       "  {'author_name': 'Christian Gregory',\n",
       "   'affl': 'U.S. Department of Agriculture (USDA) - Economic Research Service (ERS)'},\n",
       "  {'author_name': 'Anita Singh',\n",
       "   'affl': 'U.S. Department of Agriculture (USDA) - Food and Nutrition Service (FNS)'}],\n",
       " 'url': 'https://papers.ssrn.com/sol3/papers.cfm?abstract_id=2504067'}"
      ]
     },
     "execution_count": 18,
     "metadata": {},
     "output_type": "execute_result"
    }
   ],
   "source": [
    "api_results['ssrn']"
   ]
  },
  {
   "cell_type": "code",
   "execution_count": 19,
   "metadata": {},
   "outputs": [
    {
     "name": "stdout",
     "output_type": "stream",
     "text": [
      "Title from Dimensions matches\n",
      "Title from ssrn matches\n"
     ]
    }
   ],
   "source": [
    "def title_match(api_results):\n",
    "    if api_results['dimensions']['title'] == original_title:\n",
    "        print('Title from Dimensions matches')\n",
    "    if api_results['ssrn']['title'] == original_title:\n",
    "        print('Title from ssrn matches')"
   ]
  },
  {
   "cell_type": "code",
   "execution_count": null,
   "metadata": {},
   "outputs": [],
   "source": [
    "dimensions_results = RichContextAPI.dimensions_title_search(api_test_case['title'])"
   ]
  },
  {
   "cell_type": "code",
   "execution_count": null,
   "metadata": {},
   "outputs": [],
   "source": [
    "ssrn_results = RichContextAPI.ssrn_url_search(api_test_case)\n"
   ]
  },
  {
   "cell_type": "code",
   "execution_count": null,
   "metadata": {},
   "outputs": [],
   "source": [
    "dimensions_results"
   ]
  },
  {
   "cell_type": "code",
   "execution_count": null,
   "metadata": {},
   "outputs": [],
   "source": [
    "ssrn_results"
   ]
  },
  {
   "cell_type": "code",
   "execution_count": null,
   "metadata": {},
   "outputs": [],
   "source": [
    "\n",
    "api_results = fetch_api_data(api_test_case)\n",
    "title_match(api_results)"
   ]
  },
  {
   "cell_type": "code",
   "execution_count": null,
   "metadata": {},
   "outputs": [],
   "source": []
  }
 ],
 "metadata": {
  "kernelspec": {
   "display_name": "Python 3",
   "language": "python",
   "name": "python3"
  },
  "language_info": {
   "codemirror_mode": {
    "name": "ipython",
    "version": 3
   },
   "file_extension": ".py",
   "mimetype": "text/x-python",
   "name": "python",
   "nbconvert_exporter": "python",
   "pygments_lexer": "ipython3",
   "version": "3.7.3"
  }
 },
 "nbformat": 4,
 "nbformat_minor": 2
}
