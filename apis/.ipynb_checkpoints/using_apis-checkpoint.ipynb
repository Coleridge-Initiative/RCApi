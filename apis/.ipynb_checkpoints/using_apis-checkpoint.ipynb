{
 "cells": [
  {
   "cell_type": "markdown",
   "metadata": {},
   "source": [
    "### Testing out different apis with different inputs"
   ]
  },
  {
   "cell_type": "markdown",
   "metadata": {},
   "source": [
    "Read in publications.json and identify a random entry"
   ]
  },
  {
   "cell_type": "code",
   "execution_count": 1,
   "metadata": {},
   "outputs": [],
   "source": [
    "import json\n",
    "with open('all_pubs.json') as json_file:\n",
    "    publications = json.load(json_file)"
   ]
  },
  {
   "cell_type": "markdown",
   "metadata": {},
   "source": [
    "#### Fetch by title"
   ]
  },
  {
   "cell_type": "markdown",
   "metadata": {},
   "source": [
    "##### Dimensions"
   ]
  },
  {
   "cell_type": "code",
   "execution_count": 12,
   "metadata": {},
   "outputs": [
    {
     "data": {
      "text/plain": [
       "<module 'RichContextAPI' from '/Users/sophierand/RCApi/apis/RichContextAPI.py'>"
      ]
     },
     "execution_count": 12,
     "metadata": {},
     "output_type": "execute_result"
    }
   ],
   "source": [
    "import RichContextAPI\n",
    "import importlib\n",
    "importlib.reload(RichContextAPI)"
   ]
  },
  {
   "cell_type": "code",
   "execution_count": 3,
   "metadata": {},
   "outputs": [],
   "source": [
    "# test_case = publications[0]\n",
    "test_case = publications[44]"
   ]
  },
  {
   "cell_type": "code",
   "execution_count": null,
   "metadata": {},
   "outputs": [],
   "source": [
    "dimensions_results = RichContextAPI.dimensions_main(test_case)"
   ]
  },
  {
   "cell_type": "markdown",
   "metadata": {},
   "source": [
    "##### SSRN"
   ]
  },
  {
   "cell_type": "code",
   "execution_count": null,
   "metadata": {},
   "outputs": [],
   "source": [
    "test_case = publications[44]"
   ]
  },
  {
   "cell_type": "code",
   "execution_count": null,
   "metadata": {},
   "outputs": [],
   "source": [
    "ssrn_results = RichContextAPI.ssrn_main(test_case)"
   ]
  },
  {
   "cell_type": "code",
   "execution_count": 17,
   "metadata": {},
   "outputs": [
    {
     "name": "stdout",
     "output_type": "stream",
     "text": [
      "ya\n"
     ]
    }
   ],
   "source": [
    "if 'ssrn' in test_case['doi'] or 'ssrn' in test_case['url']:\n",
    "    ssrn_results = RichContextAPI.ssrn_main(test_case)"
   ]
  },
  {
   "cell_type": "code",
   "execution_count": 14,
   "metadata": {},
   "outputs": [],
   "source": []
  },
  {
   "cell_type": "code",
   "execution_count": 11,
   "metadata": {},
   "outputs": [
    {
     "data": {
      "text/plain": [
       "'2504067'"
      ]
     },
     "execution_count": 11,
     "metadata": {},
     "output_type": "execute_result"
    }
   ],
   "source": [
    "# get_metadata\n",
    "\n",
    "doi = test_case['doi']\n",
    "doi.split('ssrn.',1)[1]"
   ]
  },
  {
   "cell_type": "code",
   "execution_count": null,
   "metadata": {},
   "outputs": [],
   "source": [
    "10.2139/ssrn.2504067"
   ]
  },
  {
   "cell_type": "code",
   "execution_count": null,
   "metadata": {},
   "outputs": [],
   "source": [
    "def ssrn_main(pub):\n",
    "#     try to get the metadata given a url\n",
    "    try:\n",
    "        url = pub['url']\n",
    "#     if not, create url from doi\n",
    "    except:\n",
    "        doi = pub['doi'].split('ssrn.',1)[1]\n",
    "        url = 'https://papers.ssrn.com/sol3/papers.cfm?abstract_id=' + doi.split('ssrn.',1)[1]\n",
    "    pub_dict = get_metadata(url)\n",
    "    return pub_dict\n"
   ]
  },
  {
   "cell_type": "code",
   "execution_count": null,
   "metadata": {},
   "outputs": [],
   "source": [
    "# test_doi.split('10.2139/ssrn.',1)\n",
    "new_url = 'https://papers.ssrn.com/sol3/papers.cfm?abstract_id=' + test_doi.split('ssrn.',1)[1]\n",
    "# \\S"
   ]
  },
  {
   "cell_type": "code",
   "execution_count": null,
   "metadata": {},
   "outputs": [],
   "source": [
    "new_url"
   ]
  },
  {
   "cell_type": "code",
   "execution_count": null,
   "metadata": {},
   "outputs": [],
   "source": [
    "get_metadata(new_url)"
   ]
  },
  {
   "cell_type": "code",
   "execution_count": null,
   "metadata": {},
   "outputs": [],
   "source": [
    "import requests\n",
    "from bs4 import BeautifulSoup\n",
    "url = 'https://papers.ssrn.com/sol3/papers.cfm?abstract_id=2504067'\n",
    "get_metadata(url)"
   ]
  },
  {
   "cell_type": "code",
   "execution_count": null,
   "metadata": {},
   "outputs": [],
   "source": [
    "soup.find(\"meta\",  {\"name\": \"citation_doi\"})[\"content\"]\n",
    "# [0][\"content\"]\n",
    "#         doi = x[\"content\"]"
   ]
  },
  {
   "cell_type": "code",
   "execution_count": null,
   "metadata": {},
   "outputs": [],
   "source": []
  },
  {
   "cell_type": "markdown",
   "metadata": {},
   "source": [
    "##### RePEc"
   ]
  },
  {
   "cell_type": "code",
   "execution_count": null,
   "metadata": {},
   "outputs": [],
   "source": [
    "import urllib\n",
    "from bs4 import BeautifulSoup"
   ]
  },
  {
   "cell_type": "code",
   "execution_count": null,
   "metadata": {},
   "outputs": [],
   "source": [
    "def get_repec_handle (title):\n",
    "    enc_title = urllib.parse.quote_plus(title.replace(\"(\", \"\").replace(\")\", \"\").replace(\":\", \"\"))\n",
    "\n",
    "    cgi_url = \"https://ideas.repec.org/cgi-bin/htsearch?q={}\".format(enc_title)\n",
    "    response = requests.get(cgi_url).text\n",
    "    #print(BeautifulSoup(response, \"html.parser\").prettify())\n",
    "\n",
    "    soup = BeautifulSoup(response, \"html.parser\")\n",
    "    ol = soup.find(\"ol\", {\"class\": \"list-group\"})\n",
    "    results = ol.findChildren()\n",
    "\n",
    "    if len(results) > 0:\n",
    "        li = results[0]\n",
    "        handle = li.find(\"i\").get_text()\n",
    "        return handle\n",
    "    else:\n",
    "        return None"
   ]
  },
  {
   "cell_type": "code",
   "execution_count": null,
   "metadata": {},
   "outputs": [],
   "source": [
    "title = \"The use of cash and debit cards as payment instruments in Colombia\""
   ]
  },
  {
   "cell_type": "code",
   "execution_count": null,
   "metadata": {},
   "outputs": [],
   "source": [
    "a = get_repec_handle(title)"
   ]
  },
  {
   "cell_type": "code",
   "execution_count": null,
   "metadata": {},
   "outputs": [],
   "source": [
    "a"
   ]
  },
  {
   "cell_type": "code",
   "execution_count": null,
   "metadata": {},
   "outputs": [],
   "source": [
    "\"repec_handle\": \"RePEc:lde:journl:y:2019:i:90:p:71-95\",\n",
    "    \"title\": \"The use of cash and debit cards as payment instruments in Colombia\""
   ]
  },
  {
   "cell_type": "code",
   "execution_count": null,
   "metadata": {},
   "outputs": [],
   "source": [
    "import requests\n",
    "# handle = \"RePEc:lde:journl:y:2019:i:90:p:71-95\"\n",
    "token = 'd9kHt3Cm'"
   ]
  },
  {
   "cell_type": "code",
   "execution_count": null,
   "metadata": {},
   "outputs": [],
   "source": [
    "api_url = \"https://api.repec.org/call.cgi?code={}&getref={}\".format(token, a)\n",
    "response = requests.get(api_url).text"
   ]
  },
  {
   "cell_type": "code",
   "execution_count": null,
   "metadata": {},
   "outputs": [],
   "source": [
    "response"
   ]
  },
  {
   "cell_type": "code",
   "execution_count": null,
   "metadata": {},
   "outputs": [],
   "source": [
    "api_url"
   ]
  },
  {
   "cell_type": "markdown",
   "metadata": {},
   "source": [
    "##### SSRN"
   ]
  },
  {
   "cell_type": "code",
   "execution_count": null,
   "metadata": {},
   "outputs": [],
   "source": [
    "test_case['url']"
   ]
  },
  {
   "cell_type": "code",
   "execution_count": null,
   "metadata": {},
   "outputs": [],
   "source": [
    "test_case['dimensions']['linkout']"
   ]
  },
  {
   "cell_type": "code",
   "execution_count": null,
   "metadata": {},
   "outputs": [],
   "source": [
    "\"Household Food Security in the United States in 2013\""
   ]
  },
  {
   "cell_type": "code",
   "execution_count": null,
   "metadata": {},
   "outputs": [],
   "source": [
    "def build_dict(seq, key):\n",
    "    return dict((d[key], dict(d, index=index)) for (index, d) in enumerate(seq))\n",
    "\n",
    "info_by_name = build_dict(publications, key=\"title\")\n",
    "tom_info = info_by_name.get(\"Household Food Security in the United States in 2013\")"
   ]
  },
  {
   "cell_type": "code",
   "execution_count": null,
   "metadata": {},
   "outputs": [],
   "source": [
    "tom_info"
   ]
  },
  {
   "cell_type": "code",
   "execution_count": null,
   "metadata": {},
   "outputs": [],
   "source": [
    "# a"
   ]
  },
  {
   "cell_type": "code",
   "execution_count": null,
   "metadata": {},
   "outputs": [],
   "source": [
    "# dimensions_md"
   ]
  },
  {
   "cell_type": "code",
   "execution_count": null,
   "metadata": {},
   "outputs": [],
   "source": [
    "test_case['title']"
   ]
  },
  {
   "cell_type": "code",
   "execution_count": null,
   "metadata": {},
   "outputs": [],
   "source": [
    " \"http://europepmc.org/articles/PMC3059821\""
   ]
  },
  {
   "cell_type": "code",
   "execution_count": null,
   "metadata": {},
   "outputs": [],
   "source": [
    "def get_europepmc_metadata (url):\n",
    "    \"\"\"\n",
    "    parse metadata from a Europe PMC web page for a publication\n",
    "    \"\"\"\n",
    "\n",
    "    # <meta content=\"http://europepmc.org/articles/PMC2819787?pdf=render\" name=\"citation_pdf_url\"/>\n",
    "    # <meta content=\"10.3390/ijerph7010269\" name=\"citation_doi\"/>\n",
    "    # <meta content=\"Int J Environ Res Public Health\" name=\"citation_journal_abbrev\"/>\n",
    "\n",
    "    response = requests.get(url).text\n",
    "    #print(BeautifulSoup(response, \"html.parser\").prettify())\n",
    "\n",
    "    publisher = None\n",
    "    doi = None\n",
    "    pdf = None\n",
    "\n",
    "    soup = BeautifulSoup(response, \"html.parser\")\n",
    "\n",
    "    for x in soup.find_all(\"span\", {\"id\": \"pmcmata\"}):\n",
    "        publisher = x.get_text()\n",
    "\n",
    "    for x in soup.find_all(\"meta\",  {\"name\": \"citation_doi\"}):\n",
    "        doi = x[\"content\"]\n",
    "\n",
    "    for x in soup.find_all(\"meta\",  {\"name\": \"citation_pdf_url\"}):\n",
    "        pdf = x[\"content\"]\n",
    "\n",
    "    if publisher and doi and pdf:\n",
    "        return [publisher, doi, pdf]\n",
    "    else:\n",
    "        return None\n"
   ]
  },
  {
   "cell_type": "markdown",
   "metadata": {},
   "source": [
    "### MAIN"
   ]
  },
  {
   "cell_type": "code",
   "execution_count": null,
   "metadata": {},
   "outputs": [],
   "source": [
    "if 'ssrn' in test_case['doi'] or 'ssrn' in test_case['url']:\n",
    "    ssrn_results = RichContextAPI.ssrn_main(test_case)"
   ]
  }
 ],
 "metadata": {
  "kernelspec": {
   "display_name": "Python 3",
   "language": "python",
   "name": "python3"
  },
  "language_info": {
   "codemirror_mode": {
    "name": "ipython",
    "version": 3
   },
   "file_extension": ".py",
   "mimetype": "text/x-python",
   "name": "python",
   "nbconvert_exporter": "python",
   "pygments_lexer": "ipython3",
   "version": "3.7.3"
  }
 },
 "nbformat": 4,
 "nbformat_minor": 2
}
