{
 "cells": [
  {
   "cell_type": "code",
   "execution_count": 27,
   "metadata": {},
   "outputs": [
    {
     "data": {
      "text/plain": [
       "<module 'RichContextAPI' from '/Users/sophierand/RCApi/apis/RichContextAPI.py'>"
      ]
     },
     "execution_count": 27,
     "metadata": {},
     "output_type": "execute_result"
    }
   ],
   "source": [
    "import RichContextAPI\n",
    "import call_api\n",
    "import importlib\n",
    "importlib.reload(RichContextAPI)"
   ]
  },
  {
   "cell_type": "code",
   "execution_count": 28,
   "metadata": {},
   "outputs": [],
   "source": [
    "import json\n",
    "with open('all_pubs.json') as json_file:\n",
    "    publications = json.load(json_file)"
   ]
  },
  {
   "cell_type": "code",
   "execution_count": 29,
   "metadata": {},
   "outputs": [],
   "source": [
    "test_case = publications[44]\n",
    "api_test_case = call_api.assign_apis(test_case)"
   ]
  },
  {
   "cell_type": "code",
   "execution_count": null,
   "metadata": {},
   "outputs": [],
   "source": []
  },
  {
   "cell_type": "code",
   "execution_count": 30,
   "metadata": {},
   "outputs": [
    {
     "data": {
      "text/plain": [
       "{'title': 'Household Food Security in the United States in 2013',\n",
       " 'url': 'https://www.ers.usda.gov/publications/pub-details/?pubid=45268',\n",
       " 'related_dataset': [{'dataset_id': 'dataset-033'}],\n",
       " 'dimensions': {'researchers': [{'id': 'ur.01256022523.75',\n",
       "    'last_name': 'Coleman-Jensen',\n",
       "    'research_orgs': ['grid.253563.4',\n",
       "     'grid.29857.31',\n",
       "     'grid.482913.5',\n",
       "     'grid.463419.d'],\n",
       "    'first_name': 'Alisha Judith'},\n",
       "   {'id': 'ur.015523362545.65',\n",
       "    'last_name': 'Gregory',\n",
       "    'first_name': 'Christian A'}],\n",
       "  'concepts': ['household food security',\n",
       "   'food security',\n",
       "   'security',\n",
       "   'United States',\n",
       "   'state'],\n",
       "  'terms': ['household food security',\n",
       "   'food security',\n",
       "   'security',\n",
       "   'United States',\n",
       "   'state'],\n",
       "  'author_affiliations': [[{'first_name': 'Alisha',\n",
       "     'last_name': 'Coleman-Jensen',\n",
       "     'corresponding': '',\n",
       "     'orcid': '',\n",
       "     'current_organization_id': 'grid.463419.d',\n",
       "     'researcher_id': 'ur.01256022523.75',\n",
       "     'affiliations': []},\n",
       "    {'first_name': 'Christian',\n",
       "     'last_name': 'Gregory',\n",
       "     'corresponding': '',\n",
       "     'orcid': '',\n",
       "     'current_organization_id': '',\n",
       "     'researcher_id': 'ur.015523362545.65',\n",
       "     'affiliations': []},\n",
       "    {'first_name': 'Anita',\n",
       "     'last_name': 'Singh',\n",
       "     'corresponding': '',\n",
       "     'orcid': '',\n",
       "     'current_organization_id': '',\n",
       "     'researcher_id': '',\n",
       "     'affiliations': []}]],\n",
       "  'authors': [{'first_name': 'Alisha',\n",
       "    'last_name': 'Coleman-Jensen',\n",
       "    'corresponding': '',\n",
       "    'orcid': '',\n",
       "    'current_organization_id': 'grid.463419.d',\n",
       "    'researcher_id': 'ur.01256022523.75',\n",
       "    'affiliations': []},\n",
       "   {'first_name': 'Christian',\n",
       "    'last_name': 'Gregory',\n",
       "    'corresponding': '',\n",
       "    'orcid': '',\n",
       "    'current_organization_id': '',\n",
       "    'researcher_id': 'ur.015523362545.65',\n",
       "    'affiliations': []},\n",
       "   {'first_name': 'Anita',\n",
       "    'last_name': 'Singh',\n",
       "    'corresponding': '',\n",
       "    'orcid': '',\n",
       "    'current_organization_id': '',\n",
       "    'researcher_id': '',\n",
       "    'affiliations': []}],\n",
       "  'journal': {'id': 'jour.1276748', 'title': 'SSRN Electronic Journal'},\n",
       "  'doi': '10.2139/ssrn.2504067',\n",
       "  'publisher': 'Elsevier',\n",
       "  'open_access_categories': [{'id': 'oa_all',\n",
       "    'name': 'All OA',\n",
       "    'description': 'Article is freely available'},\n",
       "   {'id': 'green_sub',\n",
       "    'name': 'Green, Submitted',\n",
       "    'description': 'Free copy of submitted version, or where version is unknown, in an OA repository'}],\n",
       "  'altmetric': 3,\n",
       "  'times_cited': 121,\n",
       "  'year': 2014,\n",
       "  'title': 'Household Food Security in the United States in 2013',\n",
       "  'recent_citations': 50,\n",
       "  'issn': ['1556-5068'],\n",
       "  'type': 'preprint',\n",
       "  'date': '2014-01-01',\n",
       "  'score': 1.0,\n",
       "  'id': 'pub.1102442280',\n",
       "  'date_inserted': '2018-04-06',\n",
       "  'altmetric_id': 44525634,\n",
       "  'journal_lists': ['Norwegian register level 0']},\n",
       " 'doi': '10.2139/ssrn.2504067',\n",
       " 'available_api': ['ssrn', 'dimensions']}"
      ]
     },
     "execution_count": 30,
     "metadata": {},
     "output_type": "execute_result"
    }
   ],
   "source": [
    "api_test_case"
   ]
  },
  {
   "cell_type": "code",
   "execution_count": 31,
   "metadata": {},
   "outputs": [],
   "source": [
    "# RichContextAPI.search_title('Household Food Security in the United States in 2013',api_client)"
   ]
  },
  {
   "cell_type": "code",
   "execution_count": 32,
   "metadata": {},
   "outputs": [],
   "source": [
    "# ssrn_results"
   ]
  },
  {
   "cell_type": "code",
   "execution_count": 33,
   "metadata": {},
   "outputs": [],
   "source": [
    "def fetch_api_data(api_test_case):\n",
    "    api_results = {}\n",
    "    original_title = api_test_case['title']\n",
    "    print('seeking metadata on publication {}'.format(original_title) + ' from APIs: {}'.format(api_test_case['available_api']))\n",
    "    for a in api_test_case['available_api']:\n",
    "        if a == 'dimensions':\n",
    "            dimensions_results = RichContextAPI.dimensions_title_search(api_test_case['title'])\n",
    "            api_results.update({a:dimensions_results})\n",
    "        if a == 'ssrn':\n",
    "            ssrn_results = RichContextAPI.ssrn_url_search(api_test_case)\n",
    "            api_results.update({a:ssrn_results})\n",
    "    return api_results"
   ]
  },
  {
   "cell_type": "code",
   "execution_count": 34,
   "metadata": {},
   "outputs": [
    {
     "name": "stdout",
     "output_type": "stream",
     "text": [
      "seeking metadata on publication Household Food Security in the United States in 2013 from APIs: ['ssrn', 'dimensions']\n",
      "API credentials have been set\n"
     ]
    }
   ],
   "source": [
    "api_results = fetch_api_data(api_test_case)"
   ]
  },
  {
   "cell_type": "markdown",
   "metadata": {},
   "source": [
    "write in some plce the format for publications - markdown for this\n",
    "set of possible fields and required fields\n",
    "test-driven development \n",
    "write unit test on that \n",
    "req: title and url\n",
    "optional: doi, repec, etc\n",
    "\n",
    "generate api and put in own dict\n",
    "rather than having businiess logic rules to see which publication should go to which api, run all of them and reconcile this stuff later\n",
    "\n",
    "working toward a graph structure - so we want to avoid nesting \n",
    "\n",
    "work witih one api at a time\n"
   ]
  },
  {
   "cell_type": "code",
   "execution_count": null,
   "metadata": {},
   "outputs": [],
   "source": []
  },
  {
   "cell_type": "code",
   "execution_count": 35,
   "metadata": {},
   "outputs": [
    {
     "data": {
      "text/plain": [
       "{'ssrn': {'title': 'Household Food Security in the United States in 2013',\n",
       "  'keywords': ['Food security',\n",
       "   'food insecurity',\n",
       "   'food spending',\n",
       "   'food pantry',\n",
       "   'soup kitchen',\n",
       "   'emergency kitchen',\n",
       "   'material well-being',\n",
       "   'material hardship',\n",
       "   'Supplemental Nutrition Assistance Program',\n",
       "   'SNAP',\n",
       "   'Food Stamp Program',\n",
       "   'National School Lunch Program'],\n",
       "  'doi': '10.2139/ssrn.2504067',\n",
       "  'authors': [{'author_name': 'Alisha Coleman-Jensen',\n",
       "    'affl': 'U.S. Department of Agriculture (USDA) - Economic Research Service (ERS)'},\n",
       "   {'author_name': 'Christian Gregory',\n",
       "    'affl': 'U.S. Department of Agriculture (USDA) - Economic Research Service (ERS)'},\n",
       "   {'author_name': 'Anita Singh',\n",
       "    'affl': 'U.S. Department of Agriculture (USDA) - Food and Nutrition Service (FNS)'}],\n",
       "  'url': 'https://papers.ssrn.com/sol3/papers.cfm?abstract_id=2504067'},\n",
       " 'dimensions': {'authors': [{'first_name': 'Alisha',\n",
       "    'last_name': 'Coleman-Jensen',\n",
       "    'corresponding': '',\n",
       "    'orcid': '',\n",
       "    'current_organization_id': 'grid.463419.d',\n",
       "    'researcher_id': 'ur.01256022523.75',\n",
       "    'affiliations': []},\n",
       "   {'first_name': 'Christian',\n",
       "    'last_name': 'Gregory',\n",
       "    'corresponding': '',\n",
       "    'orcid': '',\n",
       "    'current_organization_id': '',\n",
       "    'researcher_id': 'ur.015523362545.65',\n",
       "    'affiliations': []},\n",
       "   {'first_name': 'Anita',\n",
       "    'last_name': 'Singh',\n",
       "    'corresponding': '',\n",
       "    'orcid': '',\n",
       "    'current_organization_id': '',\n",
       "    'researcher_id': '',\n",
       "    'affiliations': []}],\n",
       "  'doi': '10.2139/ssrn.2504067',\n",
       "  'keywords': ['state',\n",
       "   'household food security',\n",
       "   'United States',\n",
       "   'food security',\n",
       "   'security'],\n",
       "  'journal_title': 'SSRN Electronic Journal',\n",
       "  'title': 'Household Food Security in the United States in 2013'}}"
      ]
     },
     "execution_count": 35,
     "metadata": {},
     "output_type": "execute_result"
    }
   ],
   "source": [
    "api_results"
   ]
  },
  {
   "cell_type": "code",
   "execution_count": 25,
   "metadata": {},
   "outputs": [],
   "source": [
    "def title_match(api_results):\n",
    "    if api_results['dimensions']['title'] == original_title:\n",
    "        print('Title from Dimensions matches')\n",
    "    if api_results['ssrn']['title'] == original_title:\n",
    "        print('Title from ssrn matches')"
   ]
  },
  {
   "cell_type": "code",
   "execution_count": null,
   "metadata": {},
   "outputs": [],
   "source": [
    "dimensions_results = RichContextAPI.dimensions_title_search(api_test_case['title'])"
   ]
  },
  {
   "cell_type": "code",
   "execution_count": null,
   "metadata": {},
   "outputs": [],
   "source": [
    "ssrn_results = RichContextAPI.ssrn_url_search(api_test_case)\n"
   ]
  },
  {
   "cell_type": "code",
   "execution_count": null,
   "metadata": {},
   "outputs": [],
   "source": [
    "dimensions_results"
   ]
  },
  {
   "cell_type": "code",
   "execution_count": null,
   "metadata": {},
   "outputs": [],
   "source": [
    "ssrn_results"
   ]
  },
  {
   "cell_type": "code",
   "execution_count": 26,
   "metadata": {},
   "outputs": [
    {
     "name": "stdout",
     "output_type": "stream",
     "text": [
      "seeking metadata on publication Household Food Security in the United States in 2013 from APIs: ['ssrn', 'dimensions']\n",
      "API credentials have been set\n",
      "Title from Dimensions matches\n",
      "Title from ssrn matches\n"
     ]
    }
   ],
   "source": [
    "\n",
    "api_results = fetch_api_data(api_test_case)\n",
    "title_match(api_results)"
   ]
  },
  {
   "cell_type": "code",
   "execution_count": null,
   "metadata": {},
   "outputs": [],
   "source": []
  }
 ],
 "metadata": {
  "kernelspec": {
   "display_name": "Python 3",
   "language": "python",
   "name": "python3"
  },
  "language_info": {
   "codemirror_mode": {
    "name": "ipython",
    "version": 3
   },
   "file_extension": ".py",
   "mimetype": "text/x-python",
   "name": "python",
   "nbconvert_exporter": "python",
   "pygments_lexer": "ipython3",
   "version": "3.7.3"
  }
 },
 "nbformat": 4,
 "nbformat_minor": 2
}
