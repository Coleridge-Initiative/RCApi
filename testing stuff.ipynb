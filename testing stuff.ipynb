{
 "cells": [
  {
   "cell_type": "code",
   "execution_count": 3,
   "metadata": {},
   "outputs": [],
   "source": [
    "import configparser\n",
    "\n",
    "\n",
    "\n",
    "import requests\n"
   ]
  },
  {
   "cell_type": "code",
   "execution_count": 8,
   "metadata": {},
   "outputs": [],
   "source": [
    "def gen_dimensions_token():\n",
    "    CONFIG_FILE = \"rc.cfg\"\n",
    "    CONFIG = configparser.ConfigParser()\n",
    "    CONFIG.read(CONFIG_FILE)\n",
    "    username = CONFIG.get('DEFAULT',  'username')\n",
    "    password = CONFIG.get('DEFAULT',  'password')\n",
    "    login = {\n",
    "    'username': username,\n",
    "    'password': password\n",
    "    }\n",
    "    resp = requests.post('https://app.dimensions.ai/api/auth.json', json=login)\n",
    "    if resp.raise_for_status() is not None:\n",
    "        print('Check credentials or permissions.')\n",
    "    header = {\n",
    "    'Authorization': \"JWT \" + resp.json()['token']}\n",
    "    return header\n",
    "        \n",
    "    \n",
    "def run_dimensions_query(query):\n",
    "    header = gen_dimensions_token()\n",
    "    resp = requests.post(\n",
    "    'https://app.dimensions.ai/api/dsl.json',\n",
    "    data= query.encode(),\n",
    "    headers=header)\n",
    "\n",
    "    response = resp.json()\n",
    "    return response\n",
    "    "
   ]
  },
  {
   "cell_type": "code",
   "execution_count": 9,
   "metadata": {},
   "outputs": [
    {
     "data": {
      "text/plain": [
       "{'_stats': {'total_count': 143617},\n",
       " 'publications': [{'doi': '10.17567/ataunidfd.554428',\n",
       "   'journal': {'id': 'jour.1114723',\n",
       "    'title': 'Atatürk Üniversitesi Diş Hekimliği Fakültesi Dergisi'},\n",
       "   'title': 'TRABZON İLİNDE, 3-6 YAŞ GRUBU ÇOCUKLARDA ERKEN ÇOCUKLUK ÇAĞI ÇÜRÜĞÜ PREVALANSI VE İLİŞKİLİ RİSK FAKTÖRLERİNİN DEĞERLENDİRİLMESİ'},\n",
       "  {'doi': '10.1016/j.copsyc.2019.06.014',\n",
       "   'journal': {'id': 'jour.1051202', 'title': 'Current Opinion in Psychology'},\n",
       "   'title': 'Early Life Disadvantage, Phenotypic Programming, and Health Disparities'},\n",
       "  {'doi': '10.1146/annurev-statistics-031219-041058',\n",
       "   'journal': {'id': 'jour.1049410',\n",
       "    'title': 'Annual Review of Statistics and Its Application'},\n",
       "   'title': 'Modern Algorithms for Matching in Observational Studies'},\n",
       "  {'doi': '10.1016/j.foodqual.2019.103826',\n",
       "   'journal': {'id': 'jour.1034064', 'title': 'Food Quality and Preference'},\n",
       "   'title': 'Investigating the Role of Health Halos and Reactance in Ice Cream Choice'},\n",
       "  {'doi': '10.1016/j.chemosphere.2019.125301',\n",
       "   'journal': {'id': 'jour.1015185', 'title': 'Chemosphere'},\n",
       "   'title': 'Developmental programming: Prenatal bisphenol A treatment disrupts mediators of placental function in sheep'},\n",
       "  {'doi': '10.1016/j.chemosphere.2019.125208',\n",
       "   'journal': {'id': 'jour.1015185', 'title': 'Chemosphere'},\n",
       "   'title': 'Perfluorooctanoic acid alters progesterone activity in human endometrial cells and induces reproductive alterations in young women'},\n",
       "  {'doi': '10.1016/j.chemosphere.2019.125250',\n",
       "   'journal': {'id': 'jour.1015185', 'title': 'Chemosphere'},\n",
       "   'title': 'Perfluorinated substances in the Flemish population (Belgium): Levels and determinants of variability in exposure'},\n",
       "  {'doi': '10.1016/j.chemosphere.2019.125186',\n",
       "   'journal': {'id': 'jour.1015185', 'title': 'Chemosphere'},\n",
       "   'title': 'The carcinogen cadmium elevates CpG-demethylation and enrichment of NFYA and E2F1 in the promoter of oncogenic PRMT5 and EZH2 methyltransferases resulting in their elevated expression in vitro'},\n",
       "  {'doi': '10.1016/j.chemosphere.2019.125236',\n",
       "   'journal': {'id': 'jour.1015185', 'title': 'Chemosphere'},\n",
       "   'title': 'Simultaneous determination of bisphenol A and its chlorinated derivatives in human plasma: development, validation and application of a UHPLC–MS/MS method'},\n",
       "  {'doi': '10.1016/j.archger.2019.103972',\n",
       "   'journal': {'id': 'jour.1099526',\n",
       "    'title': 'Archives of Gerontology and Geriatrics'},\n",
       "   'title': 'Sex-differences in relation to the association between patterns of physical activity and sedentary behavior with frailty'},\n",
       "  {'doi': '10.1016/j.coms.2019.08.006',\n",
       "   'journal': {'id': 'jour.1100092',\n",
       "    'title': 'Oral and Maxillofacial Surgery Clinics of North America'},\n",
       "   'title': 'Interceptive Dentofacial Orthopedics (Growth Modification)'},\n",
       "  {'doi': '10.1016/j.chemosphere.2019.125076',\n",
       "   'journal': {'id': 'jour.1015185', 'title': 'Chemosphere'},\n",
       "   'title': 'In silico and in vitro studies to elucidate the role of 1HYN and 1QKI activity in BPA induced toxicity and its amelioration by Gallic acid'},\n",
       "  {'doi': '10.1016/j.nut.2019.110585',\n",
       "   'journal': {'id': 'jour.1096945', 'title': 'Nutrition'},\n",
       "   'title': 'Zinc and selenium indicators and its relation with immunological and metabolic parameters in male patients with HIV'},\n",
       "  {'doi': '10.1016/j.nut.2019.110610',\n",
       "   'journal': {'id': 'jour.1096945', 'title': 'Nutrition'},\n",
       "   'title': 'Association of fatty acids consumption with frailty and mortality among middle-aged and older adults'},\n",
       "  {'doi': '10.1016/j.tiv.2019.104676',\n",
       "   'journal': {'id': 'jour.1097569', 'title': 'Toxicology in Vitro'},\n",
       "   'title': 'High bisphenol A concentrations augment the invasiveness of tumor cells through Snail-1/Cx43/ERRγ-dependent epithelial-mesenchymal transition'},\n",
       "  {'doi': '10.1016/j.chemosphere.2019.124898',\n",
       "   'journal': {'id': 'jour.1015185', 'title': 'Chemosphere'},\n",
       "   'title': 'Effects of environmental and lifestyle exposures on urinary levels of polycyclic aromatic hydrocarbon metabolites: A cross-sectional study of urban adults in China'},\n",
       "  {'doi': '10.1016/j.scitotenv.2019.134681',\n",
       "   'journal': {'id': 'jour.1015499',\n",
       "    'title': 'The Science of The Total Environment'},\n",
       "   'title': 'Metabonomics reveals bisphenol A affects fatty acid and glucose metabolism through activation of LXR in the liver of male mice'},\n",
       "  {'doi': '10.1016/j.jhazmat.2019.121179',\n",
       "   'journal': {'id': 'jour.1106099',\n",
       "    'title': 'Journal of Hazardous Materials'},\n",
       "   'title': 'Firefighters exposure to fire emissions: impact on levels of biomarkers of exposure to polycyclic aromatic hydrocarbons and genotoxic/oxidative-effects'},\n",
       "  {'doi': '10.1016/j.jhazmat.2019.121189',\n",
       "   'journal': {'id': 'jour.1106099',\n",
       "    'title': 'Journal of Hazardous Materials'},\n",
       "   'title': 'Urinary biomarkers of phthalates exposure and risks of thyroid cancer and benign nodule'},\n",
       "  {'doi': '10.1016/j.chemosphere.2019.125030',\n",
       "   'journal': {'id': 'jour.1015185', 'title': 'Chemosphere'},\n",
       "   'title': 'Associations between the exposure to persistent organic pollutants and type 2 diabetes in East China: A case-control study'}]}"
      ]
     },
     "execution_count": 9,
     "metadata": {},
     "output_type": "execute_result"
    }
   ],
   "source": [
    "query = 'search publications in full_data for \"\\\\\"NHANES\\\\\"\" return publications[doi+title+journal]'\n",
    "run_dimensions_query(query)"
   ]
  },
  {
   "cell_type": "code",
   "execution_count": null,
   "metadata": {},
   "outputs": [],
   "source": [
    "import configparser\n",
    "CONFIG_FILE = \"rc.cfg\"\n",
    "\n",
    "\n",
    "import requests\n",
    "\n",
    "\n",
    "resp = requests.post('https://app.dimensions.ai/api/auth.json', json=login)\n",
    "if resp.raise_for_status() is None:\n",
    "    print('your in')\n",
    "\n",
    "\n",
    "#   Create http header using the generated token.\n",
    "headers = {\n",
    "    'Authorization': \"JWT \" + resp.json()['token']\n",
    "}\n"
   ]
  },
  {
   "cell_type": "code",
   "execution_count": null,
   "metadata": {},
   "outputs": [],
   "source": [
    "\n",
    "#   Execute DSL query.\n",
    "resp = requests.post(\n",
    "    'https://app.dimensions.ai/api/dsl.json',\n",
    "    data= 'search publications in full_data for \"\\\\\"NHANES\\\\\"\" return publications[doi+title+journal]'.encode(),\n",
    "    headers=headers)\n",
    "\n",
    "#   Display raw result\n",
    "print(resp.json())"
   ]
  },
  {
   "cell_type": "code",
   "execution_count": null,
   "metadata": {},
   "outputs": [],
   "source": []
  },
  {
   "cell_type": "code",
   "execution_count": null,
   "metadata": {},
   "outputs": [],
   "source": []
  },
  {
   "cell_type": "code",
   "execution_count": null,
   "metadata": {},
   "outputs": [],
   "source": []
  },
  {
   "cell_type": "code",
   "execution_count": null,
   "metadata": {},
   "outputs": [],
   "source": []
  },
  {
   "cell_type": "code",
   "execution_count": null,
   "metadata": {},
   "outputs": [],
   "source": [
    "import dimensions_search_api_client\n",
    "import importlib\n",
    "importlib.reload(dimensions_search_api_client)"
   ]
  },
  {
   "cell_type": "code",
   "execution_count": null,
   "metadata": {},
   "outputs": [],
   "source": [
    "    DIMENSIONS_SEARCH_API_BASE_DOMAIN = \".dimensions.ai\"\n",
    "    DIMENSIONS_SEARCH_API_DEFAULT_DOMAIN = \"app{}\".format( DIMENSIONS_SEARCH_API_BASE_DOMAIN )\n",
    "    DIMENSIONS_SEARCH_API_PROTOCOL = \"https\"\n",
    "    DIMENSIONS_SEARCH_API_DEFAULT_URL = \"{}://{}/api\".format( DIMENSIONS_SEARCH_API_PROTOCOL, DIMENSIONS_SEARCH_API_DEFAULT_DOMAIN )"
   ]
  },
  {
   "cell_type": "code",
   "execution_count": null,
   "metadata": {},
   "outputs": [],
   "source": [
    "DIMENSIONS_SEARCH_API_DEFAULT_URL"
   ]
  },
  {
   "cell_type": "code",
   "execution_count": null,
   "metadata": {},
   "outputs": [],
   "source": [
    "DIMENSIONS_SEARCH_API_DEFAULT_URL = 'https://app.dimensions.ai/api'"
   ]
  },
  {
   "cell_type": "code",
   "execution_count": null,
   "metadata": {},
   "outputs": [],
   "source": [
    "api_client = connect_ds_api(username = 'sr2661@nyu.edu',password = 'Bro9oklyn')"
   ]
  },
  {
   "cell_type": "code",
   "execution_count": null,
   "metadata": {},
   "outputs": [],
   "source": [
    "a_url = api_client.testing()\n",
    "a_url"
   ]
  },
  {
   "cell_type": "code",
   "execution_count": null,
   "metadata": {},
   "outputs": [],
   "source": [
    "#             login_url = \"{}/{}\".format( api_url, self.DIMENSIONS_SEARCH_API_AUTH_PAGE )\n",
    "# login_url"
   ]
  },
  {
   "cell_type": "code",
   "execution_count": null,
   "metadata": {},
   "outputs": [],
   "source": [
    "import configparser\n",
    "CONFIG_FILE = \"rc.cfg\"\n",
    "CONFIG = configparser.ConfigParser()\n",
    "CONFIG.read(CONFIG_FILE)\n",
    "username = CONFIG.get('DEFAULT',  'username')\n",
    "password = CONFIG.get('DEFAULT',  'password')\n",
    "\n",
    "\n",
    "import requests\n",
    "\n",
    "#   The credentials to be used\n",
    "login = {\n",
    "    'username': username,\n",
    "    'password': password\n",
    "}\n",
    "\n",
    "#   Send credentials to login url to retrieve token. Raise\n",
    "#   an error, if the return code indicates a problem.\n",
    "#   Please use the URL of the system you'd like to access the API\n",
    "#   in the example below.\n",
    "# resp = requests.post('https://<your-url.dimensions.ai>/api/auth.json', json=login)\n",
    "resp = requests.post('https://app.dimensions.ai/api/auth.json', json=login)\n",
    "resp.raise_for_status()\n",
    "\n",
    "\n",
    "\n",
    "\n",
    "#   Create http header using the generated token.\n",
    "headers = {\n",
    "    'Authorization': \"JWT \" + resp.json()['token']\n",
    "}\n",
    "\n",
    "#   Execute DSL query.\n",
    "resp = requests.post(\n",
    "    'https://app.dimensions.ai/api/dsl.json',\n",
    "    data= 'search publications in full_data for \"\\\\\"NHANES\\\\\"\" return publications[doi+title+journal]'.encode(),\n",
    "    headers=headers)\n",
    "\n",
    "#   Display raw result\n",
    "print(resp.json())"
   ]
  },
  {
   "cell_type": "code",
   "execution_count": null,
   "metadata": {},
   "outputs": [],
   "source": [
    "import requests\n",
    "\n",
    "#   The credentials to be used\n",
    "login = {\n",
    "    'username': username,\n",
    "    'password': password\n",
    "}\n",
    "\n",
    "#   Send credentials to login url to retrieve token. Raise\n",
    "#   an error, if the return code indicates a problem.\n",
    "#   Please use the URL of the system you'd like to access the API\n",
    "#   in the example below.\n",
    "# resp = requests.post('https://<your-url.dimensions.ai>/api/auth.json', json=login)\n",
    "resp = requests.post('https://app.dimensions.ai/api/auth.json', json=login)\n",
    "resp.raise_for_status()\n",
    "\n",
    "\n",
    "\n",
    "\n",
    "#   Create http header using the generated token.\n",
    "headers = {\n",
    "    'Authorization': \"JWT \" + resp.json()['token']\n",
    "}\n",
    "\n",
    "#   Execute DSL query.\n",
    "resp = requests.post(\n",
    "    'https://app.dimensions.ai/api/dsl.json',\n",
    "    data= 'search publications in full_data for \"\\\\\"NHANES\\\\\"\" return publications[doi+title+journal]'.encode(),\n",
    "    headers=headers)\n",
    "\n",
    "#   Display raw result\n",
    "print(resp.json())"
   ]
  },
  {
   "cell_type": "code",
   "execution_count": null,
   "metadata": {},
   "outputs": [],
   "source": [
    "resp.json()"
   ]
  },
  {
   "cell_type": "code",
   "execution_count": null,
   "metadata": {},
   "outputs": [],
   "source": [
    "# search_url = \"{}/{}\".format( api_url, self.DIMENSIONS_SEARCH_API_SEARCH_PAGE )\n",
    "\n",
    "#     # Execute DSL query.\n",
    "# search_response = requests.post( search_url, data = query_string_IN, headers = headers )\n",
    "    "
   ]
  },
  {
   "cell_type": "code",
   "execution_count": null,
   "metadata": {},
   "outputs": [],
   "source": [
    "\n",
    "\n",
    "#   Create http header using the generated token.\n",
    "headers = {\n",
    "    'Authorization': \"JWT \" + resp.json()['token']\n",
    "}\n",
    "\n",
    "#   Execute DSL query.\n",
    "resp = requests.post(\n",
    "    'https://app.dimensions.ai/api/dsl.json',\n",
    "    data= 'search publications in full_data for \"\\\\\"NHANES\\\\\"\" return publications[doi+title+journal]'.encode(),\n",
    "    headers=headers)\n",
    "\n",
    "#   Display raw result\n",
    "print(resp.json())"
   ]
  },
  {
   "cell_type": "code",
   "execution_count": null,
   "metadata": {},
   "outputs": [],
   "source": [
    "\n",
    "def connect_ds_api (username, password):\n",
    "    api_client = dscli.DimensionsSearchAPIClient()\n",
    "    api_client.set_max_in_items(100)\n",
    "    api_client.set_max_return(1000)\n",
    "    api_client.set_max_overall_returns(50000)\n",
    "    api_client.set_username(username)\n",
    "    api_client.set_password(password)\n",
    "    return api_client\n",
    "\n",
    "def dimensions_title_search (title, api_client):\n",
    "    title =  title.replace('\"', '\\\\\"')\n",
    "    query = 'search publications in title_only for \"\\\\\"{}\\\\\"\" return publications[all]'.format(title)\n",
    "    dimensions_return = api_client.execute_query(query_string_IN=query)"
   ]
  },
  {
   "cell_type": "code",
   "execution_count": null,
   "metadata": {},
   "outputs": [],
   "source": [
    "api_client = connect_ds_api(username = 'sr2661@nyu.edu',password = 'Bro9oklyn')"
   ]
  },
  {
   "cell_type": "code",
   "execution_count": null,
   "metadata": {},
   "outputs": [],
   "source": [
    "search_term = 'NHANES'\n",
    "search_string = 'search publications in full_data for \"\\\\\"{}\\\\\"\" return publications[doi+title+journal]'.format(search_term)\n",
    "search_string\n"
   ]
  },
  {
   "cell_type": "code",
   "execution_count": null,
   "metadata": {},
   "outputs": [],
   "source": []
  },
  {
   "cell_type": "code",
   "execution_count": null,
   "metadata": {},
   "outputs": [],
   "source": [
    "import rcapi\n",
    "import importlib\n",
    "from bs4 import BeautifulSoup\n",
    "from collections import OrderedDict\n",
    "from selenium import webdriver\n",
    "from selenium.webdriver.common.by import By\n",
    "from selenium.webdriver.common.keys import Keys\n",
    "from selenium.webdriver.support import expected_conditions as EC\n",
    "from selenium.webdriver.support.ui import WebDriverWait\n",
    "from urllib import parse\n",
    "import configparser\n",
    "import dimensions_search_api_client as dscli\n",
    "import json\n",
    "import re\n",
    "import requests\n",
    "import sys\n",
    "import time\n",
    "import traceback\n",
    "import urllib.parse\n",
    "import urllib.request\n",
    "import xml\n",
    "import xml.etree.ElementTree as et\n",
    "importlib.reload(rcapi)"
   ]
  },
  {
   "cell_type": "code",
   "execution_count": null,
   "metadata": {},
   "outputs": [],
   "source": [
    "title = \"Categorizing US State Drinking Practices and Consumption Trends\"\n"
   ]
  },
  {
   "cell_type": "code",
   "execution_count": null,
   "metadata": {},
   "outputs": [],
   "source": [
    "\"http://api.openaire.eu/search/publications?title={}\".format(title)"
   ]
  },
  {
   "cell_type": "code",
   "execution_count": null,
   "metadata": {},
   "outputs": [],
   "source": [
    "rcapi.oa_title_search(title)"
   ]
  },
  {
   "cell_type": "code",
   "execution_count": null,
   "metadata": {},
   "outputs": [],
   "source": [
    "search_term = 'NHANES'\n",
    "search_term_format = re.sub(\" \",\"+\",search_term)\n",
    "search_url = 'https://explore.openaire.eu/search/find?keyword=%22{}%22'.format(search_term_format)\n",
    "response = requests.get(search_url).text\n",
    "soup = BeautifulSoup(response, \"html.parser\")\n",
    "titles = soup.find_all(\"div\",  {\"class\": \"uk-h5\"})\n",
    "# pub_list = []\n",
    "# for t in titles:\n",
    "#     pub_dict = {}\n",
    "#     oa_title_return = oa_title_search(t)\n",
    "#     pub_list.append(oa_title_return)\n",
    "#     # pub_dict.update({'title':t.text,'url':\"https://explore.openaire.eu\" + t.contents[0]['href']})\n",
    "#     # url_vals = oa_url_search(pub_dict['url'])\n",
    "#     # try:\n",
    "#     #     doi = url_vals['doi']\n",
    "#     #     pub_dict.update({'doi':doi})\n",
    "#     # except:\n",
    "#     #     pass\n",
    "#     # pub_list.append(pub_dict)\n",
    "# return pub_list"
   ]
  },
  {
   "cell_type": "code",
   "execution_count": null,
   "metadata": {},
   "outputs": [],
   "source": [
    "# titles"
   ]
  },
  {
   "cell_type": "code",
   "execution_count": null,
   "metadata": {},
   "outputs": [],
   "source": [
    "rcapi.oa_fulltext_search('NHANES')\n"
   ]
  },
  {
   "cell_type": "code",
   "execution_count": null,
   "metadata": {},
   "outputs": [],
   "source": [
    "rcapi.oa_fulltext_search('NHANES')"
   ]
  },
  {
   "cell_type": "code",
   "execution_count": null,
   "metadata": {},
   "outputs": [],
   "source": []
  },
  {
   "cell_type": "code",
   "execution_count": null,
   "metadata": {},
   "outputs": [],
   "source": [
    "def dimensions_run_exact_string_search(string,api_client):\n",
    "    search_string = 'search publications in full_data for \"\\\\\"{}\\\\\"\" return publications[doi+title+journal]'.format(string)\n",
    "    api_response = api_client.execute_query(query_string_IN = search_string )\n",
    "    publication_data = api_response['publications']\n",
    "    [p.update({'journal':p['journal']['title']}) for p in publication_data]\n",
    "    return publication_data"
   ]
  },
  {
   "cell_type": "code",
   "execution_count": null,
   "metadata": {},
   "outputs": [],
   "source": [
    "import RichContextAPI"
   ]
  },
  {
   "cell_type": "code",
   "execution_count": null,
   "metadata": {},
   "outputs": [],
   "source": [
    "api_client = RichContextAPI.connect_dimensions_api()"
   ]
  },
  {
   "cell_type": "code",
   "execution_count": null,
   "metadata": {},
   "outputs": [],
   "source": [
    "a = dimensions_run_exact_string_search(string = 'NHANES' , api_client = api_client)"
   ]
  },
  {
   "cell_type": "code",
   "execution_count": null,
   "metadata": {},
   "outputs": [],
   "source": [
    "a"
   ]
  },
  {
   "cell_type": "code",
   "execution_count": null,
   "metadata": {},
   "outputs": [],
   "source": [
    "b = a[0]\n",
    "b.update({'journal':b['journal']['title']})\n",
    "b"
   ]
  },
  {
   "cell_type": "code",
   "execution_count": null,
   "metadata": {},
   "outputs": [],
   "source": [
    "import requests"
   ]
  },
  {
   "cell_type": "code",
   "execution_count": null,
   "metadata": {},
   "outputs": [],
   "source": [
    "import urllib.request\n",
    "from urllib import parse\n",
    "import xml\n",
    "from bs4 import BeautifulSoup\n",
    "import re\n",
    "import requests"
   ]
  },
  {
   "cell_type": "code",
   "execution_count": null,
   "metadata": {},
   "outputs": [],
   "source": [
    "search_url = 'https://www.researchgate.net/search/publication?q=%22survey+of+earned+doctorates%22'\n",
    "response = requests.get(search_url).text\n",
    "soup = BeautifulSoup(response, \"html.parser\")\n"
   ]
  },
  {
   "cell_type": "code",
   "execution_count": null,
   "metadata": {},
   "outputs": [],
   "source": [
    "response = requests.get(search_url).text\n",
    "soup = BeautifulSoup(response, \"html.parser\")\n",
    "\n",
    "#     publisher = None\n",
    "#     doi = None\n",
    "#     pdf = None\n",
    "#     new_url = None\n",
    "\n",
    "#     soup = BeautifulSoup(response, \"html.parser\")\n",
    "\n",
    "\n"
   ]
  },
  {
   "cell_type": "code",
   "execution_count": null,
   "metadata": {},
   "outputs": [],
   "source": [
    "soup"
   ]
  },
  {
   "cell_type": "code",
   "execution_count": null,
   "metadata": {},
   "outputs": [],
   "source": [
    "# itemtype=\"http://schema.org/ScholarlyArticle\""
   ]
  },
  {
   "cell_type": "code",
   "execution_count": null,
   "metadata": {},
   "outputs": [],
   "source": [
    "def rg_query(search_term):\n",
    "    pub_list = []\n",
    "    search_term_format = re.sub(\" \",\"+\",search_term)\n",
    "    search_url = 'https://www.researchgate.net/search/publication?q=%22{}%22'.format(search_term_format)\n",
    "\n",
    "    response = requests.get(search_url).text\n",
    "    soup = BeautifulSoup(response, \"html.parser\")\n",
    "\n",
    "    titles = soup.find_all(\"div\",  {\"itemtype\": \"http://schema.org/ScholarlyArticle\"})\n",
    "    for t in titles:\n",
    "        pub_dict = {}\n",
    "        a = t.find_all(\"a\",{\"class\":\"nova-e-link nova-e-link--color-inherit nova-e-link--theme-bare\"})[0]\n",
    "        title = a.text\n",
    "        url = \"https://www.researchgate.net/\"+a['href']\n",
    "        l = t.find_all(\"li\",{\"class\":\"nova-e-list__item nova-v-publication-item__meta-data-item\"})\n",
    "        pub_dict = {'title':title,'url':url,'ds_search_term':search_term}\n",
    "        try:\n",
    "            doi = [re.sub(\"DOI:\",\" \",d.text).rstrip().lstrip() for d in l if 'DOI' in d.text][0]\n",
    "            pub_dict.update({'doi':doi})\n",
    "        except:\n",
    "            pass\n",
    "        pub_list.append(pub_dict)\n",
    "    return pub_list"
   ]
  },
  {
   "cell_type": "code",
   "execution_count": null,
   "metadata": {},
   "outputs": [],
   "source": [
    "len(titles)"
   ]
  },
  {
   "cell_type": "code",
   "execution_count": null,
   "metadata": {},
   "outputs": [],
   "source": [
    "a = rg_query(\"survey of earned doctorates\")"
   ]
  },
  {
   "cell_type": "code",
   "execution_count": null,
   "metadata": {},
   "outputs": [],
   "source": [
    "a"
   ]
  },
  {
   "cell_type": "code",
   "execution_count": null,
   "metadata": {},
   "outputs": [],
   "source": [
    "\n",
    "def full_text_search(search_term, api_name):\n",
    "    if api_name.lower() == 'dimensions':\n",
    "        api_client = connect_dimensions_api()\n",
    "        stringsearch_result =  dimensions_run_exact_string_search(string= search_term,api_client =api_client)\n",
    "        if stringsearch_result:\n",
    "            ss_result = stringsearch_result['publications']\n",
    "    return ss_result\n",
    "\n",
    "def dimensions_run_exact_string_search(string,api_client):\n",
    "    search_string = 'search publications in full_data for \"\\\\\"{}\\\\\"\" return publications[doi+title+journal+author_affiliations]'.format(string)\n",
    "    api_response = api_client.execute_query(query_string_IN = search_string )\n",
    "    return api_response"
   ]
  },
  {
   "cell_type": "code",
   "execution_count": null,
   "metadata": {},
   "outputs": [],
   "source": []
  },
  {
   "cell_type": "code",
   "execution_count": null,
   "metadata": {},
   "outputs": [],
   "source": []
  },
  {
   "cell_type": "code",
   "execution_count": null,
   "metadata": {},
   "outputs": [],
   "source": [
    "titles = soup.find_all(\"div\",  {\"itemtype\": \"http://schema.org/ScholarlyArticle\"})"
   ]
  },
  {
   "cell_type": "code",
   "execution_count": null,
   "metadata": {},
   "outputs": [],
   "source": [
    "t = titles[0]"
   ]
  },
  {
   "cell_type": "code",
   "execution_count": null,
   "metadata": {},
   "outputs": [],
   "source": [
    "a = t.find_all(\"a\",{\"class\":\"nova-e-link nova-e-link--color-inherit nova-e-link--theme-bare\"})[0]\n",
    "title = a.text\n",
    "url = \"https://www.researchgate.net/\"+a['href']\n",
    "l = t.find_all(\"li\",{\"class\":\"nova-e-list__item nova-v-publication-item__meta-data-item\"})\n",
    "doi = [re.sub(\"DOI:\",\" \",d.text).rstrip().lstrip() for d in l if 'DOI' in d.text][0]\n",
    "doi"
   ]
  },
  {
   "cell_type": "code",
   "execution_count": null,
   "metadata": {},
   "outputs": [],
   "source": []
  },
  {
   "cell_type": "code",
   "execution_count": null,
   "metadata": {},
   "outputs": [],
   "source": [
    "a"
   ]
  },
  {
   "cell_type": "code",
   "execution_count": null,
   "metadata": {},
   "outputs": [],
   "source": [
    "import re"
   ]
  },
  {
   "cell_type": "code",
   "execution_count": null,
   "metadata": {},
   "outputs": [],
   "source": []
  },
  {
   "cell_type": "code",
   "execution_count": null,
   "metadata": {},
   "outputs": [],
   "source": [
    "https://www.researchgate.net/publication/297586141_Report_on_the_Survey_of_Earned_Doctorates_2006"
   ]
  },
  {
   "cell_type": "code",
   "execution_count": null,
   "metadata": {},
   "outputs": [],
   "source": [
    "def load_uri (uri):\n",
    "    with urllib.request.urlopen(uri) as response:\n",
    "        html = response.read()\n",
    "        return html.decode(\"utf-8\")\n",
    "    \n",
    "\n"
   ]
  },
  {
   "cell_type": "code",
   "execution_count": null,
   "metadata": {},
   "outputs": [],
   "source": [
    "scholexplorer_uri = 'http://scholexplorer.openaire.eu/#/query/typology_publication/q=%22Survey%20of%20Earned%20Doctorates%22'\n"
   ]
  },
  {
   "cell_type": "code",
   "execution_count": null,
   "metadata": {},
   "outputs": [],
   "source": [
    "# http://scholexplorer.openaire.eu/#/query/typology_publication/q=%22Survey%20of%20Earned%20Doctorates%22"
   ]
  },
  {
   "cell_type": "code",
   "execution_count": null,
   "metadata": {},
   "outputs": [],
   "source": [
    "import bs4 as bs\n",
    "import urllib.request\n",
    "\n",
    "source = urllib.request.urlopen(scholexplorer_uri)\n",
    "soup = bs.BeautifulSoup(source,'lxml')\n",
    "\n",
    "js_test = soup.find('div', class_='row ng-scope')"
   ]
  },
  {
   "cell_type": "code",
   "execution_count": null,
   "metadata": {},
   "outputs": [],
   "source": [
    "js_test.text"
   ]
  },
  {
   "cell_type": "code",
   "execution_count": null,
   "metadata": {},
   "outputs": [],
   "source": [
    "r = session(scholexplorer_uri)"
   ]
  },
  {
   "cell_type": "code",
   "execution_count": null,
   "metadata": {},
   "outputs": [],
   "source": []
  },
  {
   "cell_type": "code",
   "execution_count": null,
   "metadata": {},
   "outputs": [],
   "source": []
  },
  {
   "cell_type": "code",
   "execution_count": null,
   "metadata": {},
   "outputs": [],
   "source": [
    "ss_uri = 'https://www.semanticscholar.org/search?q=\"survey%20of%20earned%20doctorates\"&sort=relevance'\n",
    "ss_response = load_uri(ss_uri)"
   ]
  },
  {
   "cell_type": "code",
   "execution_count": null,
   "metadata": {},
   "outputs": [],
   "source": [
    "# https://www.semanticscholar.org/search?q=\"survey%20of%20earned%20doctorates\""
   ]
  },
  {
   "cell_type": "code",
   "execution_count": null,
   "metadata": {},
   "outputs": [],
   "source": [
    "response"
   ]
  },
  {
   "cell_type": "code",
   "execution_count": null,
   "metadata": {},
   "outputs": [],
   "source": []
  }
 ],
 "metadata": {
  "kernelspec": {
   "display_name": "Python 3",
   "language": "python",
   "name": "python3"
  },
  "language_info": {
   "codemirror_mode": {
    "name": "ipython",
    "version": 3
   },
   "file_extension": ".py",
   "mimetype": "text/x-python",
   "name": "python",
   "nbconvert_exporter": "python",
   "pygments_lexer": "ipython3",
   "version": "3.7.3"
  }
 },
 "nbformat": 4,
 "nbformat_minor": 2
}
