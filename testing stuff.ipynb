{
 "cells": [
  {
   "cell_type": "code",
   "execution_count": null,
   "metadata": {},
   "outputs": [],
   "source": []
  },
  {
   "cell_type": "code",
   "execution_count": 48,
   "metadata": {},
   "outputs": [],
   "source": [
    "def dimensions_run_exact_string_search(string,api_client):\n",
    "    search_string = 'search publications in full_data for \"\\\\\"{}\\\\\"\" return publications[doi+title+journal]'.format(string)\n",
    "    api_response = api_client.execute_query(query_string_IN = search_string )\n",
    "    publication_data = api_response['publications']\n",
    "    [p.update({'journal':p['journal']['title']}) for p in publication_data]\n",
    "    return publication_data"
   ]
  },
  {
   "cell_type": "code",
   "execution_count": 49,
   "metadata": {},
   "outputs": [],
   "source": [
    "import RichContextAPI"
   ]
  },
  {
   "cell_type": "code",
   "execution_count": 50,
   "metadata": {},
   "outputs": [],
   "source": [
    "api_client = RichContextAPI.connect_dimensions_api()"
   ]
  },
  {
   "cell_type": "code",
   "execution_count": 51,
   "metadata": {},
   "outputs": [],
   "source": [
    "a = dimensions_run_exact_string_search(string = 'NHANES' , api_client = api_client)"
   ]
  },
  {
   "cell_type": "code",
   "execution_count": 52,
   "metadata": {},
   "outputs": [
    {
     "data": {
      "text/plain": [
       "[{'journal': 'Atatürk Üniversitesi Diş Hekimliği Fakültesi Dergisi',\n",
       "  'doi': '10.17567/ataunidfd.554428',\n",
       "  'title': 'TRABZON İLİNDE, 3-6 YAŞ GRUBU ÇOCUKLARDA ERKEN ÇOCUKLUK ÇAĞI ÇÜRÜĞÜ PREVALANSI VE İLİŞKİLİ RİSK FAKTÖRLERİNİN DEĞERLENDİRİLMESİ'},\n",
       " {'journal': 'Current Opinion in Psychology',\n",
       "  'doi': '10.1016/j.copsyc.2019.06.014',\n",
       "  'title': 'Early Life Disadvantage, Phenotypic Programming, and Health Disparities'},\n",
       " {'journal': 'Annual Review of Statistics and Its Application',\n",
       "  'doi': '10.1146/annurev-statistics-031219-041058',\n",
       "  'title': 'Modern Algorithms for Matching in Observational Studies'},\n",
       " {'journal': 'Food Quality and Preference',\n",
       "  'doi': '10.1016/j.foodqual.2019.103826',\n",
       "  'title': 'Investigating the Role of Health Halos and Reactance in Ice Cream Choice'},\n",
       " {'journal': 'Chemosphere',\n",
       "  'doi': '10.1016/j.chemosphere.2019.125186',\n",
       "  'title': 'The carcinogen cadmium elevates CpG-demethylation and enrichment of NFYA and E2F1 in the promoter of oncogenic PRMT5 and EZH2 methyltransferases resulting in their elevated expression in vitro'},\n",
       " {'journal': 'Nutrition',\n",
       "  'doi': '10.1016/j.nut.2019.110585',\n",
       "  'title': 'Zinc and selenium indicators and its relation with immunological and metabolic parameters in male patients with HIV'},\n",
       " {'journal': 'Chemosphere',\n",
       "  'doi': '10.1016/j.chemosphere.2019.125076',\n",
       "  'title': 'In silico and in vitro studies to elucidate the role of 1HYN and 1QKI activity in BPA induced toxicity and its amelioration by Gallic acid'},\n",
       " {'journal': 'Toxicology in Vitro',\n",
       "  'doi': '10.1016/j.tiv.2019.104676',\n",
       "  'title': 'High bisphenol A concentrations augment the invasiveness of tumor cells through Snail-1/Cx43/ERRγ-dependent epithelial-mesenchymal transition'},\n",
       " {'journal': 'Chemosphere',\n",
       "  'doi': '10.1016/j.chemosphere.2019.124898',\n",
       "  'title': 'Effects of environmental and lifestyle exposures on urinary levels of polycyclic aromatic hydrocarbon metabolites: A cross-sectional study of urban adults in China'},\n",
       " {'journal': 'Journal of Hazardous Materials',\n",
       "  'doi': '10.1016/j.jhazmat.2019.121179',\n",
       "  'title': 'Firefighters exposure to fire emissions: impact on levels of biomarkers of exposure to polycyclic aromatic hydrocarbons and genotoxic/oxidative-effects'},\n",
       " {'journal': 'Journal of Hazardous Materials',\n",
       "  'doi': '10.1016/j.jhazmat.2019.121189',\n",
       "  'title': 'Urinary biomarkers of phthalates exposure and risks of thyroid cancer and benign nodule'},\n",
       " {'journal': 'Chemosphere',\n",
       "  'doi': '10.1016/j.chemosphere.2019.124951',\n",
       "  'title': 'Rapid, sensitive and simultaneous determination of 16 endocrine-disrupting chemicals (parabens, benzophenones, bisphenols, and triclocarban) in human urine based on microextraction by packed sorbent combined with liquid chromatography tandem mass spectrometry (MEPS-LC-MS/MS)'},\n",
       " {'journal': 'Chemosphere',\n",
       "  'doi': '10.1016/j.chemosphere.2019.125030',\n",
       "  'title': 'Associations between the exposure to persistent organic pollutants and type 2 diabetes in East China: A case-control study'},\n",
       " {'journal': 'Journal of Surgical Research',\n",
       "  'doi': '10.1016/j.jss.2019.09.005',\n",
       "  'title': 'Safety of Pressurized Intraosseous Blood Infusion Strategies in a Swine Model of Hemorrhagic Shock'},\n",
       " {'journal': 'Chemosphere',\n",
       "  'doi': '10.1016/j.chemosphere.2019.124918',\n",
       "  'title': 'Urinary bisphenol A and thyroid function by BMI in the Korean National Environmental Health Survey (KoNEHS) 2012–2014'},\n",
       " {'journal': 'Toxicology in Vitro',\n",
       "  'doi': '10.1016/j.tiv.2019.104656',\n",
       "  'title': 'Per- and polyfluoroalkyl substances (PFASs) modify lung surfactant function and pro-inflammatory responses in human bronchial epithelial cells'},\n",
       " {'journal': 'Journal of Hazardous Materials',\n",
       "  'doi': '10.1016/j.jhazmat.2019.121196',\n",
       "  'title': 'Novel In Situ Method Based on Diffusive Gradients in Thin-films with Lanthanum Oxide Nanoparticles for Measuring As, Sb, and V and in Waters'},\n",
       " {'journal': 'The Journal of Maternal-Fetal & Neonatal Medicine',\n",
       "  'doi': '10.1080/14767058.2018.1484094',\n",
       "  'title': 'The relationship of maternal glycemia to childhood obesity and metabolic dysfunction‡'},\n",
       " {'journal': 'Applied Acoustics',\n",
       "  'doi': '10.1016/j.apacoust.2019.107015',\n",
       "  'title': 'Individual in situ calibration of in-ear noise dosimeters'},\n",
       " {'journal': 'Food Quality and Preference',\n",
       "  'doi': '10.1016/j.foodqual.2019.103771',\n",
       "  'title': 'Food preferences and intake in a population of Dutch individuals with self-reported smell loss: An online survey'}]"
      ]
     },
     "execution_count": 52,
     "metadata": {},
     "output_type": "execute_result"
    }
   ],
   "source": [
    "a"
   ]
  },
  {
   "cell_type": "code",
   "execution_count": 47,
   "metadata": {},
   "outputs": [
    {
     "data": {
      "text/plain": [
       "{'journal': 'Atatürk Üniversitesi Diş Hekimliği Fakültesi Dergisi',\n",
       " 'doi': '10.17567/ataunidfd.554428',\n",
       " 'title': 'TRABZON İLİNDE, 3-6 YAŞ GRUBU ÇOCUKLARDA ERKEN ÇOCUKLUK ÇAĞI ÇÜRÜĞÜ PREVALANSI VE İLİŞKİLİ RİSK FAKTÖRLERİNİN DEĞERLENDİRİLMESİ'}"
      ]
     },
     "execution_count": 47,
     "metadata": {},
     "output_type": "execute_result"
    }
   ],
   "source": [
    "b = a[0]\n",
    "b.update({'journal':b['journal']['title']})\n",
    "b"
   ]
  },
  {
   "cell_type": "code",
   "execution_count": null,
   "metadata": {},
   "outputs": [],
   "source": [
    "import requests"
   ]
  },
  {
   "cell_type": "code",
   "execution_count": 2,
   "metadata": {},
   "outputs": [],
   "source": [
    "import urllib.request\n",
    "from urllib import parse\n",
    "import xml\n",
    "from bs4 import BeautifulSoup\n",
    "import re\n",
    "import requests"
   ]
  },
  {
   "cell_type": "code",
   "execution_count": null,
   "metadata": {},
   "outputs": [],
   "source": [
    "search_url = 'https://www.researchgate.net/search/publication?q=%22survey+of+earned+doctorates%22'\n",
    "response = requests.get(search_url).text\n",
    "soup = BeautifulSoup(response, \"html.parser\")\n"
   ]
  },
  {
   "cell_type": "code",
   "execution_count": null,
   "metadata": {},
   "outputs": [],
   "source": [
    "response = requests.get(search_url).text\n",
    "soup = BeautifulSoup(response, \"html.parser\")\n",
    "\n",
    "#     publisher = None\n",
    "#     doi = None\n",
    "#     pdf = None\n",
    "#     new_url = None\n",
    "\n",
    "#     soup = BeautifulSoup(response, \"html.parser\")\n",
    "\n",
    "\n"
   ]
  },
  {
   "cell_type": "code",
   "execution_count": null,
   "metadata": {},
   "outputs": [],
   "source": [
    "soup"
   ]
  },
  {
   "cell_type": "code",
   "execution_count": null,
   "metadata": {},
   "outputs": [],
   "source": [
    "# itemtype=\"http://schema.org/ScholarlyArticle\""
   ]
  },
  {
   "cell_type": "code",
   "execution_count": 14,
   "metadata": {},
   "outputs": [],
   "source": [
    "def rg_query(search_term):\n",
    "    pub_list = []\n",
    "    search_term_format = re.sub(\" \",\"+\",search_term)\n",
    "    search_url = 'https://www.researchgate.net/search/publication?q=%22{}%22'.format(search_term_format)\n",
    "\n",
    "    response = requests.get(search_url).text\n",
    "    soup = BeautifulSoup(response, \"html.parser\")\n",
    "\n",
    "    titles = soup.find_all(\"div\",  {\"itemtype\": \"http://schema.org/ScholarlyArticle\"})\n",
    "    for t in titles:\n",
    "        pub_dict = {}\n",
    "        a = t.find_all(\"a\",{\"class\":\"nova-e-link nova-e-link--color-inherit nova-e-link--theme-bare\"})[0]\n",
    "        title = a.text\n",
    "        url = \"https://www.researchgate.net/\"+a['href']\n",
    "        l = t.find_all(\"li\",{\"class\":\"nova-e-list__item nova-v-publication-item__meta-data-item\"})\n",
    "        pub_dict = {'title':title,'url':url,'ds_search_term':search_term}\n",
    "        try:\n",
    "            doi = [re.sub(\"DOI:\",\" \",d.text).rstrip().lstrip() for d in l if 'DOI' in d.text][0]\n",
    "            pub_dict.update({'doi':doi})\n",
    "        except:\n",
    "            pass\n",
    "        pub_list.append(pub_dict)\n",
    "    return pub_list"
   ]
  },
  {
   "cell_type": "code",
   "execution_count": 15,
   "metadata": {},
   "outputs": [
    {
     "data": {
      "text/plain": [
       "10"
      ]
     },
     "execution_count": 15,
     "metadata": {},
     "output_type": "execute_result"
    }
   ],
   "source": [
    "len(titles)"
   ]
  },
  {
   "cell_type": "code",
   "execution_count": 16,
   "metadata": {},
   "outputs": [],
   "source": [
    "a = rg_query(\"survey of earned doctorates\")"
   ]
  },
  {
   "cell_type": "code",
   "execution_count": 17,
   "metadata": {},
   "outputs": [
    {
     "data": {
      "text/plain": [
       "[{'title': 'Report on the Survey of Earned Doctorates, 2006',\n",
       "  'url': 'https://www.researchgate.net/publication/297586141_Report_on_the_Survey_of_Earned_Doctorates_2006?_sg=A_lJY4vRz9M24RN0VidO63Ig39FHLflYMT9tHFbMoUMvUCDKo7w_HB2IlWUFuxzJhmvqu9qPJNpbSUg',\n",
       "  'ds_search_term': 'survey of earned doctorates',\n",
       "  'doi': '10.1632/ade.145.73'},\n",
       " {'title': 'Report on the Survey of Earned Doctorates, 2005',\n",
       "  'url': 'https://www.researchgate.net/publication/250062061_Report_on_the_Survey_of_Earned_Doctorates_2005?_sg=R2Ua-KvCXLp8VuOtbafpuyUKehb42T7W4cRD1HfVaY1oDO8xhhO6RShm1nyujkB7PWzgoo6mgoeT7vM',\n",
       "  'ds_search_term': 'survey of earned doctorates',\n",
       "  'doi': '10.1632/adfl.38.3.79'},\n",
       " {'title': 'Report on the Survey of Earned Doctorates, 2004',\n",
       "  'url': 'https://www.researchgate.net/publication/297586050_Report_on_the_Survey_of_Earned_Doctorates_2004?_sg=9v0Gu3gMZwmarf_Kn-7j0VxS1CL08FxHda2BiLD_KS3ULK3Is9Wew9Zyb0CXjMdRHoXT0hM7UELwWSA',\n",
       "  'ds_search_term': 'survey of earned doctorates',\n",
       "  'doi': '10.1632/ade.140.80'},\n",
       " {'title': 'Survey of earned doctorates: a profile of doctoral degree recipients',\n",
       "  'url': 'https://www.researchgate.net/publication/260036694_Survey_of_earned_doctorates_a_profile_of_doctoral_degree_recipients?_sg=YEqpWuk317Oy2Ffgt7-B3nzJ9QkI0KD4PBv0DBu8yyPwLMykTh_8t7Rbr_plj-sUV83eR_ttenohUoc',\n",
       "  'ds_search_term': 'survey of earned doctorates'},\n",
       " {'title': 'Female computer science doctorates: what does the survey of earned doctorates reveal?',\n",
       "  'url': 'https://www.researchgate.net/publication/220613017_Female_computer_science_doctorates_what_does_the_survey_of_earned_doctorates_reveal?_sg=eEfeBCwF-C7FeeKsFKwp8XUdm8twoPZpqjZelTf7oJhWkIk0eg7nZyR21_rBC_nWTa8aYNOlA8cMAVA',\n",
       "  'ds_search_term': 'survey of earned doctorates',\n",
       "  'doi': '10.1145/543812.543841'},\n",
       " {'title': 'Doctorate Education in Canada: Findings from the Survey of Earned Doctorates, 2005/2006',\n",
       "  'url': 'https://www.researchgate.net/publication/242612114_Doctorate_Education_in_Canada_Findings_from_the_Survey_of_Earned_Doctorates_20052006?_sg=k4jcxU18XT47owlFAlwKUICYZhS7ho3qFuFrxmqznIRA8BIpTOPd3xqgPvVCwu0fZc4fx81IB6MHLao',\n",
       "  'ds_search_term': 'survey of earned doctorates'},\n",
       " {'title': 'Are high-quality PhD programs at universities associated with more undergraduate students pursuing PhD study?',\n",
       "  'url': 'https://www.researchgate.net/publication/333730754_Are_high-quality_PhD_programs_at_universities_associated_with_more_undergraduate_students_pursuing_PhD_study?_sg=P_sqDuH8dh3GAcyboN3ar7P_kWc1HxBr3tseNn4g0VmTaX4PcrJbsJ5Ogv6NPxdl7djQukLQCy3fRrg',\n",
       "  'ds_search_term': 'survey of earned doctorates',\n",
       "  'doi': '10.1080/09645292.2019.1623177'},\n",
       " {'title': 'Parenting on the Path to the Professoriate: A Focus on Graduate Student Mothers',\n",
       "  'url': 'https://www.researchgate.net/publication/333367686_Parenting_on_the_Path_to_the_Professoriate_A_Focus_on_Graduate_Student_Mothers?_sg=ahPgg3B04TUKDu-X19URVVluKL5FQwc84oAtnJu_P33yMT0-_bVYBfcavWeqpRk2in1m3zdt76_G1RQ',\n",
       "  'ds_search_term': 'survey of earned doctorates',\n",
       "  'doi': '10.1007/s11162-019-09561-z'},\n",
       " {'title': 'Federal funding of doctoral recipients: What can be learned from linked data',\n",
       "  'url': 'https://www.researchgate.net/publication/331738774_Federal_funding_of_doctoral_recipients_What_can_be_learned_from_linked_data?_sg=cP4dv8VEhWq58uDA1qD-yK0Cc4UQrZdDKmmW14oqfo2eqg6ZQtgdGxfNeHD6LLgMWvvd5wvd1evXQ_8',\n",
       "  'ds_search_term': 'survey of earned doctorates',\n",
       "  'doi': '10.1016/j.respol.2019.03.001'},\n",
       " {'title': 'Exploring the Faculty Pipeline in Educational Administration: Evidence from the Survey of Earned Doctorates, 1999 to 2000',\n",
       "  'url': 'https://www.researchgate.net/publication/249684607_Exploring_the_Faculty_Pipeline_in_Educational_Administration_Evidence_from_the_Survey_of_Earned_Doctorates_1999_to_2000?_sg=GmQwxFYoNBYgT2jS-nTaXl74edODtQMryBkZnfUIoV0C-aGSSxNmqi8SP27zQmbegpbQ-FVT1eZX-cU',\n",
       "  'ds_search_term': 'survey of earned doctorates',\n",
       "  'doi': '10.1177/0013161X06293716'}]"
      ]
     },
     "execution_count": 17,
     "metadata": {},
     "output_type": "execute_result"
    }
   ],
   "source": [
    "a"
   ]
  },
  {
   "cell_type": "code",
   "execution_count": null,
   "metadata": {},
   "outputs": [],
   "source": [
    "\n",
    "def full_text_search(search_term, api_name):\n",
    "    if api_name.lower() == 'dimensions':\n",
    "        api_client = connect_dimensions_api()\n",
    "        stringsearch_result =  dimensions_run_exact_string_search(string= search_term,api_client =api_client)\n",
    "        if stringsearch_result:\n",
    "            ss_result = stringsearch_result['publications']\n",
    "    return ss_result\n",
    "\n",
    "def dimensions_run_exact_string_search(string,api_client):\n",
    "    search_string = 'search publications in full_data for \"\\\\\"{}\\\\\"\" return publications[doi+title+journal+author_affiliations]'.format(string)\n",
    "    api_response = api_client.execute_query(query_string_IN = search_string )\n",
    "    return api_response"
   ]
  },
  {
   "cell_type": "code",
   "execution_count": null,
   "metadata": {},
   "outputs": [],
   "source": []
  },
  {
   "cell_type": "code",
   "execution_count": null,
   "metadata": {},
   "outputs": [],
   "source": []
  },
  {
   "cell_type": "code",
   "execution_count": null,
   "metadata": {},
   "outputs": [],
   "source": [
    "titles = soup.find_all(\"div\",  {\"itemtype\": \"http://schema.org/ScholarlyArticle\"})"
   ]
  },
  {
   "cell_type": "code",
   "execution_count": null,
   "metadata": {},
   "outputs": [],
   "source": [
    "t = titles[0]"
   ]
  },
  {
   "cell_type": "code",
   "execution_count": null,
   "metadata": {},
   "outputs": [],
   "source": [
    "a = t.find_all(\"a\",{\"class\":\"nova-e-link nova-e-link--color-inherit nova-e-link--theme-bare\"})[0]\n",
    "title = a.text\n",
    "url = \"https://www.researchgate.net/\"+a['href']\n",
    "l = t.find_all(\"li\",{\"class\":\"nova-e-list__item nova-v-publication-item__meta-data-item\"})\n",
    "doi = [re.sub(\"DOI:\",\" \",d.text).rstrip().lstrip() for d in l if 'DOI' in d.text][0]\n",
    "doi"
   ]
  },
  {
   "cell_type": "code",
   "execution_count": null,
   "metadata": {},
   "outputs": [],
   "source": []
  },
  {
   "cell_type": "code",
   "execution_count": null,
   "metadata": {},
   "outputs": [],
   "source": [
    "a"
   ]
  },
  {
   "cell_type": "code",
   "execution_count": null,
   "metadata": {},
   "outputs": [],
   "source": [
    "import re"
   ]
  },
  {
   "cell_type": "code",
   "execution_count": null,
   "metadata": {},
   "outputs": [],
   "source": []
  },
  {
   "cell_type": "code",
   "execution_count": null,
   "metadata": {},
   "outputs": [],
   "source": [
    "https://www.researchgate.net/publication/297586141_Report_on_the_Survey_of_Earned_Doctorates_2006"
   ]
  },
  {
   "cell_type": "code",
   "execution_count": null,
   "metadata": {},
   "outputs": [],
   "source": [
    "def load_uri (uri):\n",
    "    with urllib.request.urlopen(uri) as response:\n",
    "        html = response.read()\n",
    "        return html.decode(\"utf-8\")\n",
    "    \n",
    "\n"
   ]
  },
  {
   "cell_type": "code",
   "execution_count": null,
   "metadata": {},
   "outputs": [],
   "source": [
    "scholexplorer_uri = 'http://scholexplorer.openaire.eu/#/query/typology_publication/q=%22Survey%20of%20Earned%20Doctorates%22'\n"
   ]
  },
  {
   "cell_type": "code",
   "execution_count": null,
   "metadata": {},
   "outputs": [],
   "source": [
    "# http://scholexplorer.openaire.eu/#/query/typology_publication/q=%22Survey%20of%20Earned%20Doctorates%22"
   ]
  },
  {
   "cell_type": "code",
   "execution_count": null,
   "metadata": {},
   "outputs": [],
   "source": [
    "import bs4 as bs\n",
    "import urllib.request\n",
    "\n",
    "source = urllib.request.urlopen(scholexplorer_uri)\n",
    "soup = bs.BeautifulSoup(source,'lxml')\n",
    "\n",
    "js_test = soup.find('div', class_='row ng-scope')"
   ]
  },
  {
   "cell_type": "code",
   "execution_count": null,
   "metadata": {},
   "outputs": [],
   "source": [
    "js_test.text"
   ]
  },
  {
   "cell_type": "code",
   "execution_count": null,
   "metadata": {},
   "outputs": [],
   "source": [
    "r = session(scholexplorer_uri)"
   ]
  },
  {
   "cell_type": "code",
   "execution_count": null,
   "metadata": {},
   "outputs": [],
   "source": []
  },
  {
   "cell_type": "code",
   "execution_count": null,
   "metadata": {},
   "outputs": [],
   "source": []
  },
  {
   "cell_type": "code",
   "execution_count": null,
   "metadata": {},
   "outputs": [],
   "source": [
    "ss_uri = 'https://www.semanticscholar.org/search?q=\"survey%20of%20earned%20doctorates\"&sort=relevance'\n",
    "ss_response = load_uri(ss_uri)"
   ]
  },
  {
   "cell_type": "code",
   "execution_count": null,
   "metadata": {},
   "outputs": [],
   "source": [
    "# https://www.semanticscholar.org/search?q=\"survey%20of%20earned%20doctorates\""
   ]
  },
  {
   "cell_type": "code",
   "execution_count": null,
   "metadata": {},
   "outputs": [],
   "source": [
    "response"
   ]
  },
  {
   "cell_type": "code",
   "execution_count": null,
   "metadata": {},
   "outputs": [],
   "source": []
  }
 ],
 "metadata": {
  "kernelspec": {
   "display_name": "Python 3",
   "language": "python",
   "name": "python3"
  },
  "language_info": {
   "codemirror_mode": {
    "name": "ipython",
    "version": 3
   },
   "file_extension": ".py",
   "mimetype": "text/x-python",
   "name": "python",
   "nbconvert_exporter": "python",
   "pygments_lexer": "ipython3",
   "version": "3.7.3"
  }
 },
 "nbformat": 4,
 "nbformat_minor": 2
}
