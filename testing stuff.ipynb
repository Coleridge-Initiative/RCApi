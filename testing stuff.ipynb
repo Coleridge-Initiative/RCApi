{
 "cells": [
  {
   "cell_type": "code",
   "execution_count": 11,
   "metadata": {},
   "outputs": [
    {
     "data": {
      "text/plain": [
       "<module 'RichContextApi_new' from '/Users/sophierand/RCApi/RichContextApi_new.py'>"
      ]
     },
     "execution_count": 11,
     "metadata": {},
     "output_type": "execute_result"
    }
   ],
   "source": [
    "import RichContextApi_new\n",
    "import importlib\n",
    "import json\n",
    "import re\n",
    "importlib.reload(RichContextApi_new)"
   ]
  },
  {
   "cell_type": "code",
   "execution_count": 22,
   "metadata": {},
   "outputs": [],
   "source": [
    "def gen_file_name(num,search_term,api_name):\n",
    "    export_location = '/Users/sophierand/RichContextMetadata/metadata/20191118_exports/'\n",
    "    export_file_name = re.sub(' ','',search_term+'_'+api_name+'_'+'_linkages_'+str(num)+'.json')\n",
    "    file_name = export_location+export_file_name\n",
    "    return file_name"
   ]
  },
  {
   "cell_type": "code",
   "execution_count": 26,
   "metadata": {},
   "outputs": [],
   "source": [
    "api_names = ['openaire','researchgate','dimensions']"
   ]
  },
  {
   "cell_type": "code",
   "execution_count": 27,
   "metadata": {},
   "outputs": [],
   "source": [
    "search_term = 'survey of earned doctorates'\n"
   ]
  },
  {
   "cell_type": "code",
   "execution_count": 28,
   "metadata": {},
   "outputs": [],
   "source": [
    "this_num = 0\n",
    "for i in api_names:\n",
    "    ft_search = RichContextApi_new.fulltext_search(search_term = search_term, api_name = i)\n",
    "    file_name = gen_file_name(num = this_num,search_term = search_term,api_name = i)\n",
    "    with open(file_name, 'w') as outfile:\n",
    "        json.dump(ft_search, outfile,indent = 2)\n",
    "    this_num +=1\n"
   ]
  },
  {
   "cell_type": "code",
   "execution_count": 17,
   "metadata": {},
   "outputs": [
    {
     "data": {
      "text/plain": [
       "'surveyofearneddoctorates_dimensions__linkages_2'"
      ]
     },
     "execution_count": 17,
     "metadata": {},
     "output_type": "execute_result"
    }
   ],
   "source": [
    "file_name"
   ]
  },
  {
   "cell_type": "code",
   "execution_count": null,
   "metadata": {},
   "outputs": [],
   "source": []
  },
  {
   "cell_type": "code",
   "execution_count": null,
   "metadata": {},
   "outputs": [],
   "source": [
    "# ft_search\n",
    "\n",
    "# search_term+"
   ]
  },
  {
   "cell_type": "code",
   "execution_count": null,
   "metadata": {},
   "outputs": [],
   "source": [
    "def gen_file_name(num,search_term,api_name):\n",
    "    export_location = '/Users/sophierand/RichContextMetadata/metadata/20191118_exports'\n",
    "    export_file_name = re.sub(' ','',search_term+'_'+api_name+'_'+'_linkages_'+str(num))\n",
    "    return export_file_name"
   ]
  },
  {
   "cell_type": "code",
   "execution_count": null,
   "metadata": {},
   "outputs": [],
   "source": [
    "ft_search = RichContextApi_new.fulltext_search(search_term = search_term, api_name = 'researchgate')"
   ]
  },
  {
   "cell_type": "code",
   "execution_count": null,
   "metadata": {},
   "outputs": [],
   "source": [
    "gen_file_name(1,search_term,'researchgate')"
   ]
  },
  {
   "cell_type": "code",
   "execution_count": null,
   "metadata": {},
   "outputs": [],
   "source": [
    "export_location = '/Users/sophierand/RichContextMetadata/metadata/20191118_exports'\n",
    "num = 0\n",
    "export_file_name = re.sub(' ','',search_term+'_linkages_'+str(num))\n",
    "export_file_name"
   ]
  },
  {
   "cell_type": "code",
   "execution_count": null,
   "metadata": {},
   "outputs": [],
   "source": [
    "import os"
   ]
  },
  {
   "cell_type": "code",
   "execution_count": null,
   "metadata": {},
   "outputs": [],
   "source": [
    "os.listdir(export_location)"
   ]
  },
  {
   "cell_type": "code",
   "execution_count": null,
   "metadata": {},
   "outputs": [],
   "source": []
  },
  {
   "cell_type": "code",
   "execution_count": null,
   "metadata": {},
   "outputs": [],
   "source": []
  },
  {
   "cell_type": "code",
   "execution_count": null,
   "metadata": {},
   "outputs": [],
   "source": [
    "# http://europepmc.org/search?query=%22survey%20of%20earned%20doctorates%22\n",
    "import re\n",
    "search_term = 'survey of earned doctorates'\n",
    "search_term_format = re.sub(\" \",\"%20\",search_term)\n",
    "search_url = 'http://europepmc.org/search?query=%22{}%22'.format(search_term_format)\n",
    "search_url"
   ]
  },
  {
   "cell_type": "code",
   "execution_count": null,
   "metadata": {},
   "outputs": [],
   "source": []
  },
  {
   "cell_type": "code",
   "execution_count": null,
   "metadata": {},
   "outputs": [],
   "source": []
  },
  {
   "cell_type": "code",
   "execution_count": null,
   "metadata": {},
   "outputs": [],
   "source": [
    "import configparser\n",
    "import dimensions_search_api_client as dscli\n",
    "import urllib\n",
    "import requests\n",
    "from urllib import parse\n",
    "import json\n",
    "import xml.etree.ElementTree as et\n",
    "from bs4 import BeautifulSoup\n",
    "import re"
   ]
  },
  {
   "cell_type": "code",
   "execution_count": null,
   "metadata": {},
   "outputs": [],
   "source": [
    "search_term = 'survey of earned doctorates'"
   ]
  },
  {
   "cell_type": "code",
   "execution_count": null,
   "metadata": {},
   "outputs": [],
   "source": [
    "\n",
    "search_term_format = re.sub(\" \",\"+\",search_term)\n",
    "search_url = 'https://explore.openaire.eu/search/find?keyword=%22{}%22'.format(search_term_format)\n",
    "search_url"
   ]
  },
  {
   "cell_type": "code",
   "execution_count": null,
   "metadata": {},
   "outputs": [],
   "source": [
    "def oa_fulltext_search(search_term):\n",
    "    search_term_format = re.sub(\" \",\"+\",search_term)\n",
    "    search_url = 'https://explore.openaire.eu/search/find?keyword=%22{}%22'.format(search_term_format)\n",
    "    response = requests.get(search_url).text\n",
    "    soup = BeautifulSoup(response, \"html.parser\")\n",
    "    titles = soup.find_all(\"div\",  {\"class\": \"uk-h5\"})\n",
    "    pub_list = []\n",
    "    for t in titles:\n",
    "        pub_dict = {}\n",
    "        pub_dict.update({'title':t.text,'url':\"https://explore.openaire.eu\" + t.contents[0]['href']})\n",
    "        pub_list.append(pub_dict)\n",
    "    return pub_list"
   ]
  },
  {
   "cell_type": "code",
   "execution_count": null,
   "metadata": {},
   "outputs": [],
   "source": [
    "search_term = 'survey of earned doctorates'\n",
    "a = oa_fulltext_search(search_term)"
   ]
  },
  {
   "cell_type": "code",
   "execution_count": null,
   "metadata": {},
   "outputs": [],
   "source": [
    "a"
   ]
  },
  {
   "cell_type": "code",
   "execution_count": null,
   "metadata": {},
   "outputs": [],
   "source": [
    "# def oa_fulltext_search(search_term):\n",
    "#     search_term_format = re.sub(\" \",\"+\",search_term)\n",
    "#     search_url = 'https://explore.openaire.eu/search/find?keyword=%22{}%22'.format(search_term_format)\n",
    "#     response = requests.get(search_url).text\n",
    "#     soup = BeautifulSoup(response, \"html.parser\")\n",
    "#     titles = soup.find_all(\"div\",  {\"class\": \"uk-h5\"})\n",
    "#     pub_list = []\n",
    "#     for t in titles:\n",
    "#         pub_dict = {}\n",
    "#         pub_dict.update({'title':t.text,'url':\"https://explore.openaire.eu\" + t.contents[0]['href']})\n",
    "#         pub_list.append(pub_dict)\n",
    "#     return pub_list\n",
    "\n",
    "def oa_fulltext_search(search_term):\n",
    "    search_term_format = re.sub(\" \",\"+\",search_term)\n",
    "    search_url = 'https://explore.openaire.eu/search/find?keyword=%22{}%22'.format(search_term_format)\n",
    "    response = requests.get(search_url).text\n",
    "    soup = BeautifulSoup(response, \"html.parser\")\n",
    "    titles = soup.find_all(\"div\",  {\"class\": \"uk-h5\"})\n",
    "    pub_list = []\n",
    "    for t in titles:\n",
    "        pub_dict = {}\n",
    "        pub_dict.update({'title':t.text,'url':\"https://explore.openaire.eu\" + t.contents[0]['href']})\n",
    "        url_vals = oa_url_search(pub_dict['url'])\n",
    "        try:\n",
    "            doi = url_vals['doi']\n",
    "            pub_dict.update({'doi':doi})\n",
    "        except:\n",
    "            pass\n",
    "        pub_list.append(pub_dict)\n",
    "    return pub_list"
   ]
  },
  {
   "cell_type": "code",
   "execution_count": null,
   "metadata": {},
   "outputs": [],
   "source": [
    "def oa_url_search(url):\n",
    "    response = requests.get(url).text\n",
    "    soup = BeautifulSoup(response, \"html.parser\")\n",
    "    data = soup.select(\"[type='application/ld+json']\")[0]\n",
    "    pub_dict = {'url':url,'title':json.loads(data.text)[\"name\"]}\n",
    "    try:\n",
    "        if json.loads(data.text)[\"identifier\"]['propertyID'] == 'doi':\n",
    "            doi = json.loads(data.text)[\"identifier\"][\"value\"]\n",
    "            pub_dict.update({'doi':json.loads(data.text)[\"identifier\"][\"value\"]})\n",
    "        else:\n",
    "            pass\n",
    "    except:\n",
    "        pass\n",
    "    return pub_dict"
   ]
  },
  {
   "cell_type": "code",
   "execution_count": null,
   "metadata": {},
   "outputs": [],
   "source": []
  },
  {
   "cell_type": "code",
   "execution_count": null,
   "metadata": {},
   "outputs": [],
   "source": [
    "\n",
    "\n",
    "titles = soup.find_all(\"div\",  {\"class\": \"uk-h5\"})"
   ]
  },
  {
   "cell_type": "code",
   "execution_count": null,
   "metadata": {},
   "outputs": [],
   "source": [
    "t = titles[0]\n",
    "title = t.text\n"
   ]
  },
  {
   "cell_type": "code",
   "execution_count": null,
   "metadata": {},
   "outputs": [],
   "source": [
    "a = t.children\n"
   ]
  },
  {
   "cell_type": "code",
   "execution_count": null,
   "metadata": {},
   "outputs": [],
   "source": [
    "url = \"https://explore.openaire.eu\" + t.contents[0]['href']\n"
   ]
  },
  {
   "cell_type": "code",
   "execution_count": null,
   "metadata": {},
   "outputs": [],
   "source": [
    "def oa_query(search_term):\n",
    "    "
   ]
  },
  {
   "cell_type": "code",
   "execution_count": null,
   "metadata": {},
   "outputs": [],
   "source": [
    "def dimensions_run_exact_string_search(string,api_client):\n",
    "    search_string = 'search publications in full_data for \"\\\\\"{}\\\\\"\" return publications[doi+title+journal]'.format(string)\n",
    "    api_response = api_client.execute_query(query_string_IN = search_string )\n",
    "    publication_data = api_response['publications']\n",
    "    [p.update({'journal':p['journal']['title']}) for p in publication_data]\n",
    "    return publication_data"
   ]
  },
  {
   "cell_type": "code",
   "execution_count": null,
   "metadata": {},
   "outputs": [],
   "source": [
    "import RichContextAPI"
   ]
  },
  {
   "cell_type": "code",
   "execution_count": null,
   "metadata": {},
   "outputs": [],
   "source": [
    "api_client = RichContextAPI.connect_dimensions_api()"
   ]
  },
  {
   "cell_type": "code",
   "execution_count": null,
   "metadata": {},
   "outputs": [],
   "source": [
    "a = dimensions_run_exact_string_search(string = 'NHANES' , api_client = api_client)"
   ]
  },
  {
   "cell_type": "code",
   "execution_count": null,
   "metadata": {},
   "outputs": [],
   "source": [
    "a"
   ]
  },
  {
   "cell_type": "code",
   "execution_count": null,
   "metadata": {},
   "outputs": [],
   "source": [
    "b = a[0]\n",
    "b.update({'journal':b['journal']['title']})\n",
    "b"
   ]
  },
  {
   "cell_type": "code",
   "execution_count": null,
   "metadata": {},
   "outputs": [],
   "source": [
    "import requests"
   ]
  },
  {
   "cell_type": "code",
   "execution_count": null,
   "metadata": {},
   "outputs": [],
   "source": [
    "import urllib.request\n",
    "from urllib import parse\n",
    "import xml\n",
    "from bs4 import BeautifulSoup\n",
    "import re\n",
    "import requests"
   ]
  },
  {
   "cell_type": "code",
   "execution_count": null,
   "metadata": {},
   "outputs": [],
   "source": [
    "search_url = 'https://www.researchgate.net/search/publication?q=%22survey+of+earned+doctorates%22'\n",
    "response = requests.get(search_url).text\n",
    "soup = BeautifulSoup(response, \"html.parser\")\n"
   ]
  },
  {
   "cell_type": "code",
   "execution_count": null,
   "metadata": {},
   "outputs": [],
   "source": [
    "response = requests.get(search_url).text\n",
    "soup = BeautifulSoup(response, \"html.parser\")\n",
    "\n",
    "#     publisher = None\n",
    "#     doi = None\n",
    "#     pdf = None\n",
    "#     new_url = None\n",
    "\n",
    "#     soup = BeautifulSoup(response, \"html.parser\")\n",
    "\n",
    "\n"
   ]
  },
  {
   "cell_type": "code",
   "execution_count": null,
   "metadata": {},
   "outputs": [],
   "source": [
    "soup"
   ]
  },
  {
   "cell_type": "code",
   "execution_count": null,
   "metadata": {},
   "outputs": [],
   "source": [
    "# itemtype=\"http://schema.org/ScholarlyArticle\""
   ]
  },
  {
   "cell_type": "code",
   "execution_count": null,
   "metadata": {},
   "outputs": [],
   "source": [
    "def rg_query(search_term):\n",
    "    pub_list = []\n",
    "    search_term_format = re.sub(\" \",\"+\",search_term)\n",
    "    search_url = 'https://www.researchgate.net/search/publication?q=%22{}%22'.format(search_term_format)\n",
    "\n",
    "    response = requests.get(search_url).text\n",
    "    soup = BeautifulSoup(response, \"html.parser\")\n",
    "\n",
    "    titles = soup.find_all(\"div\",  {\"itemtype\": \"http://schema.org/ScholarlyArticle\"})\n",
    "    for t in titles:\n",
    "        pub_dict = {}\n",
    "        a = t.find_all(\"a\",{\"class\":\"nova-e-link nova-e-link--color-inherit nova-e-link--theme-bare\"})[0]\n",
    "        title = a.text\n",
    "        url = \"https://www.researchgate.net/\"+a['href']\n",
    "        l = t.find_all(\"li\",{\"class\":\"nova-e-list__item nova-v-publication-item__meta-data-item\"})\n",
    "        pub_dict = {'title':title,'url':url,'ds_search_term':search_term}\n",
    "        try:\n",
    "            doi = [re.sub(\"DOI:\",\" \",d.text).rstrip().lstrip() for d in l if 'DOI' in d.text][0]\n",
    "            pub_dict.update({'doi':doi})\n",
    "        except:\n",
    "            pass\n",
    "        pub_list.append(pub_dict)\n",
    "    return pub_list"
   ]
  },
  {
   "cell_type": "code",
   "execution_count": null,
   "metadata": {},
   "outputs": [],
   "source": [
    "len(titles)"
   ]
  },
  {
   "cell_type": "code",
   "execution_count": null,
   "metadata": {},
   "outputs": [],
   "source": [
    "a = rg_query(\"survey of earned doctorates\")"
   ]
  },
  {
   "cell_type": "code",
   "execution_count": null,
   "metadata": {},
   "outputs": [],
   "source": [
    "a"
   ]
  },
  {
   "cell_type": "code",
   "execution_count": null,
   "metadata": {},
   "outputs": [],
   "source": [
    "\n",
    "def full_text_search(search_term, api_name):\n",
    "    if api_name.lower() == 'dimensions':\n",
    "        api_client = connect_dimensions_api()\n",
    "        stringsearch_result =  dimensions_run_exact_string_search(string= search_term,api_client =api_client)\n",
    "        if stringsearch_result:\n",
    "            ss_result = stringsearch_result['publications']\n",
    "    return ss_result\n",
    "\n",
    "def dimensions_run_exact_string_search(string,api_client):\n",
    "    search_string = 'search publications in full_data for \"\\\\\"{}\\\\\"\" return publications[doi+title+journal+author_affiliations]'.format(string)\n",
    "    api_response = api_client.execute_query(query_string_IN = search_string )\n",
    "    return api_response"
   ]
  },
  {
   "cell_type": "code",
   "execution_count": null,
   "metadata": {},
   "outputs": [],
   "source": []
  },
  {
   "cell_type": "code",
   "execution_count": null,
   "metadata": {},
   "outputs": [],
   "source": []
  },
  {
   "cell_type": "code",
   "execution_count": null,
   "metadata": {},
   "outputs": [],
   "source": [
    "titles = soup.find_all(\"div\",  {\"itemtype\": \"http://schema.org/ScholarlyArticle\"})"
   ]
  },
  {
   "cell_type": "code",
   "execution_count": null,
   "metadata": {},
   "outputs": [],
   "source": [
    "t = titles[0]"
   ]
  },
  {
   "cell_type": "code",
   "execution_count": null,
   "metadata": {},
   "outputs": [],
   "source": [
    "a = t.find_all(\"a\",{\"class\":\"nova-e-link nova-e-link--color-inherit nova-e-link--theme-bare\"})[0]\n",
    "title = a.text\n",
    "url = \"https://www.researchgate.net/\"+a['href']\n",
    "l = t.find_all(\"li\",{\"class\":\"nova-e-list__item nova-v-publication-item__meta-data-item\"})\n",
    "doi = [re.sub(\"DOI:\",\" \",d.text).rstrip().lstrip() for d in l if 'DOI' in d.text][0]\n",
    "doi"
   ]
  },
  {
   "cell_type": "code",
   "execution_count": null,
   "metadata": {},
   "outputs": [],
   "source": []
  },
  {
   "cell_type": "code",
   "execution_count": null,
   "metadata": {},
   "outputs": [],
   "source": [
    "a"
   ]
  },
  {
   "cell_type": "code",
   "execution_count": null,
   "metadata": {},
   "outputs": [],
   "source": [
    "import re"
   ]
  },
  {
   "cell_type": "code",
   "execution_count": null,
   "metadata": {},
   "outputs": [],
   "source": []
  },
  {
   "cell_type": "code",
   "execution_count": null,
   "metadata": {},
   "outputs": [],
   "source": [
    "https://www.researchgate.net/publication/297586141_Report_on_the_Survey_of_Earned_Doctorates_2006"
   ]
  },
  {
   "cell_type": "code",
   "execution_count": null,
   "metadata": {},
   "outputs": [],
   "source": [
    "def load_uri (uri):\n",
    "    with urllib.request.urlopen(uri) as response:\n",
    "        html = response.read()\n",
    "        return html.decode(\"utf-8\")\n",
    "    \n",
    "\n"
   ]
  },
  {
   "cell_type": "code",
   "execution_count": null,
   "metadata": {},
   "outputs": [],
   "source": [
    "scholexplorer_uri = 'http://scholexplorer.openaire.eu/#/query/typology_publication/q=%22Survey%20of%20Earned%20Doctorates%22'\n"
   ]
  },
  {
   "cell_type": "code",
   "execution_count": null,
   "metadata": {},
   "outputs": [],
   "source": [
    "# http://scholexplorer.openaire.eu/#/query/typology_publication/q=%22Survey%20of%20Earned%20Doctorates%22"
   ]
  },
  {
   "cell_type": "code",
   "execution_count": null,
   "metadata": {},
   "outputs": [],
   "source": [
    "import bs4 as bs\n",
    "import urllib.request\n",
    "\n",
    "source = urllib.request.urlopen(scholexplorer_uri)\n",
    "soup = bs.BeautifulSoup(source,'lxml')\n",
    "\n",
    "js_test = soup.find('div', class_='row ng-scope')"
   ]
  },
  {
   "cell_type": "code",
   "execution_count": null,
   "metadata": {},
   "outputs": [],
   "source": [
    "js_test.text"
   ]
  },
  {
   "cell_type": "code",
   "execution_count": null,
   "metadata": {},
   "outputs": [],
   "source": [
    "r = session(scholexplorer_uri)"
   ]
  },
  {
   "cell_type": "code",
   "execution_count": null,
   "metadata": {},
   "outputs": [],
   "source": []
  },
  {
   "cell_type": "code",
   "execution_count": null,
   "metadata": {},
   "outputs": [],
   "source": []
  },
  {
   "cell_type": "code",
   "execution_count": null,
   "metadata": {},
   "outputs": [],
   "source": [
    "ss_uri = 'https://www.semanticscholar.org/search?q=\"survey%20of%20earned%20doctorates\"&sort=relevance'\n",
    "ss_response = load_uri(ss_uri)"
   ]
  },
  {
   "cell_type": "code",
   "execution_count": null,
   "metadata": {},
   "outputs": [],
   "source": [
    "# https://www.semanticscholar.org/search?q=\"survey%20of%20earned%20doctorates\""
   ]
  },
  {
   "cell_type": "code",
   "execution_count": null,
   "metadata": {},
   "outputs": [],
   "source": [
    "response"
   ]
  },
  {
   "cell_type": "code",
   "execution_count": null,
   "metadata": {},
   "outputs": [],
   "source": []
  }
 ],
 "metadata": {
  "kernelspec": {
   "display_name": "Python 3",
   "language": "python",
   "name": "python3"
  },
  "language_info": {
   "codemirror_mode": {
    "name": "ipython",
    "version": 3
   },
   "file_extension": ".py",
   "mimetype": "text/x-python",
   "name": "python",
   "nbconvert_exporter": "python",
   "pygments_lexer": "ipython3",
   "version": "3.7.3"
  }
 },
 "nbformat": 4,
 "nbformat_minor": 2
}
