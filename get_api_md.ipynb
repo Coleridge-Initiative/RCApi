{
 "cells": [
  {
   "cell_type": "markdown",
   "metadata": {},
   "source": [
    "### Generating publication metadata with APIs"
   ]
  },
  {
   "cell_type": "markdown",
   "metadata": {},
   "source": [
    "#### Dimensions md"
   ]
  },
  {
   "cell_type": "code",
   "execution_count": 14,
   "metadata": {},
   "outputs": [],
   "source": [
    "title = 'Relationships between Diet, Alcohol Preference, and Heart Disease and Type 2 Diabetes among Americans'\n",
    "dimensions_md = RichContextAPI.get_dimensions_md(title)"
   ]
  },
  {
   "cell_type": "markdown",
   "metadata": {},
   "source": [
    "#### SSRN md"
   ]
  },
  {
   "cell_type": "code",
   "execution_count": 10,
   "metadata": {},
   "outputs": [],
   "source": [
    "title = 'Modeling the Term Structure from the On-the-Run Treasury Yield Curve'\n",
    "ssrn_md = RichContextAPI.get_ssrn_md(title)"
   ]
  },
  {
   "cell_type": "markdown",
   "metadata": {},
   "source": [
    "#### Europe PMC"
   ]
  },
  {
   "cell_type": "code",
   "execution_count": null,
   "metadata": {},
   "outputs": [],
   "source": [
    "import RichContextAPI\n",
    "title = \"Categorizing US State Drinking Practices and Consumption Trends\"\n",
    "page_data = RichContextAPI.get_epmc_md(title)"
   ]
  },
  {
   "cell_type": "markdown",
   "metadata": {},
   "source": [
    "#### OpenAire"
   ]
  },
  {
   "cell_type": "code",
   "execution_count": 9,
   "metadata": {},
   "outputs": [],
   "source": [
    "import RichContextAPI\n",
    "title = \"Does a Nutritious Diet Cost More in Food Deserts?\"\n",
    "oa_d = RichContextAPI.oa_lookup_pub_uris(title)"
   ]
  },
  {
   "cell_type": "markdown",
   "metadata": {},
   "source": [
    "### Running publications through APIs"
   ]
  },
  {
   "cell_type": "code",
   "execution_count": 15,
   "metadata": {},
   "outputs": [
    {
     "data": {
      "text/plain": [
       "<module 'RichContextAPI' from '/Users/sophierand/RCApi/RichContextAPI.py'>"
      ]
     },
     "execution_count": 15,
     "metadata": {},
     "output_type": "execute_result"
    }
   ],
   "source": [
    "import RichContextAPI\n",
    "import importlib\n",
    "import json\n",
    "import time\n",
    "import os\n",
    "importlib.reload(RichContextAPI)"
   ]
  },
  {
   "cell_type": "code",
   "execution_count": 16,
   "metadata": {},
   "outputs": [],
   "source": [
    "pub_path = '/Users/sophierand/RCPublications/partitions/20190610_usda_iri_publications.json'"
   ]
  },
  {
   "cell_type": "code",
   "execution_count": 17,
   "metadata": {},
   "outputs": [],
   "source": [
    "with open(pub_path) as json_file:\n",
    "    publications = json.load(json_file)"
   ]
  },
  {
   "cell_type": "code",
   "execution_count": 30,
   "metadata": {},
   "outputs": [],
   "source": [
    "p = publications[0]\n",
    "# p"
   ]
  },
  {
   "cell_type": "code",
   "execution_count": 26,
   "metadata": {},
   "outputs": [
    {
     "name": "stdout",
     "output_type": "stream",
     "text": [
      "found metadata in europe pmc\n",
      "found metadata in openaire\n",
      "found metadata in dimensions\n"
     ]
    }
   ],
   "source": [
    "def get_publication_metadata(p):\n",
    "    title = p['title']\n",
    "    try:\n",
    "        epmc_md = RichContextAPI.get_epmc_md(title)\n",
    "        p.update({'europepmc':epmc_md})\n",
    "        print('found metadata in europe pmc')\n",
    "    except:\n",
    "        pass\n",
    "    try:\n",
    "        oa_md = RichContextAPI.oa_lookup_pub_uris(title)\n",
    "        p.update({'openaire':oa_md})\n",
    "        print('found metadata in openaire')\n",
    "    except:\n",
    "        pass\n",
    "    try:\n",
    "        ssrn_md = RichContextAPI.get_ssrn_md(title)\n",
    "        p.update({'ssrn':ssrn_md})\n",
    "        print('found metadata in ssrn')\n",
    "    except:\n",
    "        pass\n",
    "    try:\n",
    "        dimensions_md = RichContextAPI.get_dimensions_md(title)\n",
    "        p.update({'dimensions':dimensions_md})\n",
    "        print('found metadata in dimensions')\n",
    "    except:\n",
    "        pass\n",
    "    return p"
   ]
  },
  {
   "cell_type": "code",
   "execution_count": 29,
   "metadata": {},
   "outputs": [],
   "source": [
    "# p.keys()"
   ]
  },
  {
   "cell_type": "code",
   "execution_count": null,
   "metadata": {},
   "outputs": [],
   "source": [
    "# epmc_md = RichContextAPI.get_epmc_md(title)\n",
    "# oa_md = RichContextAPI.oa_lookup_pub_uris(title)\n",
    "# ssrn_md = RichContextAPI.get_ssrn_md(title)\n",
    "# dimensions_md = RichContextAPI.get_dimensions_md(title)"
   ]
  }
 ],
 "metadata": {
  "kernelspec": {
   "display_name": "Python 3",
   "language": "python",
   "name": "python3"
  },
  "language_info": {
   "codemirror_mode": {
    "name": "ipython",
    "version": 3
   },
   "file_extension": ".py",
   "mimetype": "text/x-python",
   "name": "python",
   "nbconvert_exporter": "python",
   "pygments_lexer": "ipython3",
   "version": "3.7.3"
  }
 },
 "nbformat": 4,
 "nbformat_minor": 2
}
